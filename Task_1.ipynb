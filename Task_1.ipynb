{
 "cells": [
  {
   "cell_type": "markdown",
   "metadata": {},
   "source": [
    "# Задание 1\n",
    "\n",
    "(**NB.** для запуска примеров кода нужен Python версии не ниже **3.10**, допускается использование других версий, в этом случае нужно самостоятельно избавиться от конструкции `match`).\n",
    "\n",
    "Есть следующий код для [автоматического дифференцирования](https://en.wikipedia.org/wiki/Automatic_differentiation), в котором используются особенности системы типов языка `Python`: "
   ]
  },
  {
   "cell_type": "code",
   "execution_count": 594,
   "metadata": {},
   "outputs": [],
   "source": [
    "from dataclasses import dataclass\n",
    "from typing import Union, Callable\n",
    "from numbers import Number\n",
    "\n",
    "@dataclass\n",
    "class Dual:\n",
    "    value: float\n",
    "    d: float\n",
    "\n",
    "    def __add__(self, other: Union[\"Dual\", Number]) -> \"Dual\":\n",
    "         match other:\n",
    "            case Dual(o_value, o_d):\n",
    "                return Dual(self.value + o_value, self.d + o_d)\n",
    "            case Number():\n",
    "                return Dual(float(other) + self.value, self.d)\n",
    "\n",
    "    def __mul__(self, other: Union[\"Dual\", Number]) -> \"Dual\":\n",
    "         match other:\n",
    "            case Dual(o_value, o_d):\n",
    "                return Dual(self.value * o_value, self.value * o_d + self.d * o_value)\n",
    "            case Number():\n",
    "                return Dual(float(other) * self.value, float(other) * self.d)    \n",
    "\n",
    "    __rmul__ = __mul__  # https://docs.python.org/3/reference/datamodel.html#object.__mul__\n",
    "    __radd__ = __add__  # https://docs.python.org/3/reference/datamodel.html#object.__radd__\n",
    " \n",
    "\n",
    "def diff(func: Callable[[float], float]) -> Callable[[float], float]:\n",
    "    return lambda x: func(Dual(x, 1.0)).d "
   ]
  },
  {
   "cell_type": "markdown",
   "metadata": {},
   "source": [
    "Поддерживаются две операции - сложение и умножение. Применить можно так:"
   ]
  },
  {
   "cell_type": "code",
   "execution_count": 595,
   "metadata": {},
   "outputs": [
    {
     "data": {
      "text/plain": [
       "22.0"
      ]
     },
     "execution_count": 595,
     "metadata": {},
     "output_type": "execute_result"
    }
   ],
   "source": [
    "# Функция, которую будем дифференцировать\n",
    "def f(x: float) -> float:\n",
    "    return 5 * x * x + 2 * x + 2\n",
    "\n",
    "f_diff = diff(f)\n",
    "\n",
    "# значение производной в точке x = 2\n",
    "f_diff(2)"
   ]
  },
  {
   "cell_type": "markdown",
   "metadata": {},
   "source": [
    "## Задание 1.1 (5 баллов)\n",
    "\n",
    "Какие недостатки вы видите в данной реализации? Реализуйте поддержку (полностью самостоятельно или модифицируя приведенный код):\n",
    "- [унарных операций](https://docs.python.org/3/reference/datamodel.html#object.__neg__) \n",
    "- деления\n",
    "- возведения в степень\n",
    "\n",
    "Каким образом можно проверить корректность решения?  Реализуйте достаточный, по вашему мнению, набор тестов."
   ]
  },
  {
   "cell_type": "code",
   "execution_count": 735,
   "metadata": {},
   "outputs": [],
   "source": [
    "from dataclasses import dataclass\n",
    "from typing import Union, Callable\n",
    "from numbers import Number\n",
    "\n",
    "#Исключение для случая, когда производной в точке не существует\n",
    "class NoDerivativeException(Exception):\n",
    "    pass\n",
    "\n",
    "@dataclass\n",
    "class Dual:\n",
    "    value: float\n",
    "    d: float\n",
    "\n",
    "    def __add__(self, other: Union[\"Dual\", Number]) -> \"Dual\":\n",
    "         match other:\n",
    "            case Dual(o_value, o_d):\n",
    "                return Dual(self.value + o_value, self.d + o_d)\n",
    "            case Number():\n",
    "                return Dual(float(other) + self.value, self.d)\n",
    "\n",
    "    def __mul__(self, other: Union[\"Dual\", Number]) -> \"Dual\":\n",
    "         match other:\n",
    "            case Dual(o_value, o_d):\n",
    "                return Dual(self.value * o_value, self.value * o_d + self.d * o_value)\n",
    "            case Number():\n",
    "                return Dual(float(other) * self.value, float(other) * self.d)    \n",
    "\n",
    "    __rmul__ = __mul__  \n",
    "    __radd__ = __add__\n",
    "    \n",
    "    # Унарные операции\n",
    "    def __neg__(self) -> \"Dual\":\n",
    "        return   Dual(-1 * self.value, -1 * self.d)\n",
    "    \n",
    "    def __pos__(self) -> \"Dual\":\n",
    "        return Dual(self.value, self.d)\n",
    "    \n",
    "    def __abs__(self) -> \"Dual\":\n",
    "        if self.value < 0:\n",
    "            return Dual(-1 * self.value, -1 * self.d)\n",
    "        elif self.value > 0:\n",
    "            return Dual(self.value, self.d)\n",
    "        else:\n",
    "            raise NoDerivativeException\n",
    "        \n",
    "    #Возведение в степень    \n",
    "    def __pow__(self, other: Union[\"Dual\", Number]) -> \"Dual\":\n",
    "        match other:\n",
    "            case Number():\n",
    "                if other == 0:\n",
    "                    return Dual(1, 0)\n",
    "                return Dual(self.value ** float(other), float(other) * self.d * (self.value ** (float(other) - 1)))\n",
    "    \n",
    "    #Деление\n",
    "    def __truediv__(self, other: Union[\"Dual\", Number]) -> \"Dual\":\n",
    "        match other:\n",
    "            case Number():\n",
    "                return Dual(self.value / float(other), self.d / float(other))\n",
    "            case Dual(o_value, o_d):\n",
    "                if o_value == 0:\n",
    "                    raise NoDerivativeException\n",
    "                return Dual(self.value / o_value, (self.d * o_value - o_d * self.value) / (o_value) ** 2)\n",
    "\n",
    "    #Деление числа на экземпляр класса  \n",
    "    def __rtruediv__(self, other: Number) -> \"Dual\":\n",
    "        if self.value == 0:\n",
    "            raise NoDerivativeException\n",
    "        return float(other) * (self ** (-1))\n",
    "    \n",
    "    # Вычитание\n",
    "    def __sub__(self, other: Union[\"Dual\", Number]) -> \"Dual\":\n",
    "        match other:\n",
    "            case Dual(o_value, o_d):\n",
    "                return Dual(self.value - o_value, self.d - o_d)\n",
    "            case Number():\n",
    "                return Dual(self.value - float(other), self.d)\n",
    "    \n",
    "    #Вычитание справа\n",
    "    def __rsub__(self, other: Union[\"Dual\", Number]) -> \"Dual\":\n",
    "        match other:\n",
    "            case Dual(o_value, o_d):\n",
    "                return Dual(o_value - self.value, o_d - self.d)\n",
    "            case Number():\n",
    "                return Dual(float(other) - self.value, -1 * self.d)\n",
    "            \n",
    "\n",
    "    \n",
    "def diff(func: Callable[[float], float]) -> Callable[[float], float]:\n",
    "    def Der(x: float) -> float:\n",
    "        try:\n",
    "            res = func(Dual(x, 1.0))\n",
    "            match res:\n",
    "                case Number():\n",
    "                    res = 0\n",
    "                case Dual(o_value, o_d):\n",
    "                    res = func(Dual(x, 1.0)).d\n",
    "        except NoDerivativeException:\n",
    "            print(\"Function has no Derivative in this point\")\n",
    "        else:\n",
    "            return res\n",
    "    return Der"
   ]
  },
  {
   "cell_type": "markdown",
   "metadata": {},
   "source": [
    "Тесты:"
   ]
  },
  {
   "cell_type": "code",
   "execution_count": 736,
   "metadata": {},
   "outputs": [],
   "source": [
    "eps: float = 10e-5\n",
    "f1 = lambda x: -6 * x\n",
    "f1_diff = diff(f1)\n",
    "f1_diff(3)\n",
    "assert(abs(f1_diff(3) - (-6)) < eps)\n",
    "\n",
    "\n",
    "f2 = lambda x: abs(x ** 2)\n",
    "f2_diff = diff(f2)\n",
    "assert(abs(f2_diff(-1) - (-2)) < eps)\n",
    "\n",
    "f3 = lambda x: x / 12\n",
    "f3_diff = diff(f3)\n",
    "assert(abs(f3_diff(4) - (1 / 12)) < eps)\n",
    "\n",
    "f4 = lambda x: x / x ** 2 + 5 * x ** 6 + x ** 3 + 2\n",
    "f4_diff = diff(f4)\n",
    "assert(abs(f4_diff(3) - (65852 / 9)) < eps)\n",
    "\n",
    "f5 = lambda x:  x * 1 / 5 - x ** 0 + 1\n",
    "f5_diff = diff(f5)\n",
    "assert(abs(f5_diff(0) - (0.2)) < eps)\n",
    "\n",
    "f6 = lambda x: 1 / abs(x)\n",
    "f6_diff = diff(f6)\n",
    "assert(abs(f6_diff(1) - (-1)) < eps)"
   ]
  },
  {
   "cell_type": "markdown",
   "metadata": {},
   "source": [
    "Тест для случая, когда производная не существует"
   ]
  },
  {
   "cell_type": "code",
   "execution_count": 737,
   "metadata": {},
   "outputs": [
    {
     "name": "stdout",
     "output_type": "stream",
     "text": [
      "Function has no Derivative in this point\n"
     ]
    }
   ],
   "source": [
    "f6 = lambda x: 1/abs(x)\n",
    "f6_diff = diff(f6)\n",
    "f6_diff(0)"
   ]
  },
  {
   "cell_type": "markdown",
   "metadata": {},
   "source": [
    "## Задание 1.2 (7 баллов)\n",
    "Придумайте способ и реализуйте поддержку функций:\n",
    "- `exp()`\n",
    "- `cos()`\n",
    "- `sin()`\n",
    "- `log()`\n",
    "\n",
    "Добавьте соответствующие тесты"
   ]
  },
  {
   "cell_type": "code",
   "execution_count": 738,
   "metadata": {},
   "outputs": [],
   "source": [
    "import math\n",
    "#Экспонента\n",
    "def exp(val: Union[\"Dual\", Number]) -> Union[\"Dual\", Number]:\n",
    "    match val:\n",
    "        case Number():\n",
    "            return math.exp(val)\n",
    "        case Dual(value, d):\n",
    "            return Dual(math.exp(value),d * math.exp(value))\n",
    "        \n",
    "#синус\n",
    "def sin(val: Union[\"Dual\", Number]) -> Union[\"Dual\", Number]:\n",
    "    match val:\n",
    "        case Number():\n",
    "            return math.sin(val)\n",
    "        case Dual(value, d):\n",
    "            return Dual(math.sin(value), d * math.cos(value))\n",
    "        \n",
    "#косинус       \n",
    "def cos(val: Union[\"Dual\", Number]) -> Union[\"Dual\", Number]:\n",
    "    match val:\n",
    "        case Number():\n",
    "            return math.cos(val)\n",
    "        case Dual(value, d):\n",
    "            return Dual(math.cos(value), -1 * d * math.sin(value))\n",
    "        \n",
    "# натуральный логорифм      \n",
    "def log(val: Union[\"Dual\", Number]) -> Union[\"Dual\", Number]:\n",
    "    match val:\n",
    "        case Number():\n",
    "            if val <= 0:\n",
    "                raise NoDerivativeException\n",
    "            return math.log(val)\n",
    "        case Dual(value, d):\n",
    "            if value <= 0:\n",
    "                raise NoDerivativeException\n",
    "            return Dual(math.log(value), d / value)"
   ]
  },
  {
   "cell_type": "markdown",
   "metadata": {},
   "source": [
    "Тесты"
   ]
  },
  {
   "cell_type": "code",
   "execution_count": 715,
   "metadata": {},
   "outputs": [],
   "source": [
    "eps: float = 10e-5\n",
    "f1 = lambda x: sin(1 / (x ** 2))\n",
    "f1_diff = diff(f1)\n",
    "assert(abs(f1_diff(math.pi) - (-0.0641723)) < eps)\n",
    "\n",
    "f2 = lambda x: cos(x ** 3 + 2 * x + 3)\n",
    "f2_diff = diff(f2)\n",
    "assert(abs(f2_diff(1) - (1.39708)) < eps)\n",
    "\n",
    "f3 = lambda x: exp(5 * x **3 + cos(2 * x) + 1 / x)\n",
    "f3_diff = diff(f3)\n",
    "assert(abs(f3_diff(0.5) - (-45.8028)) < eps)\n",
    "\n",
    "f4 = lambda x: log (x / x ** 2 + 5 * x ** 6 + x ** 3 + 2)\n",
    "f4_diff = diff(f4)\n",
    "assert(abs(f4_diff(2) - (2.94024)) < eps)\n",
    "\n",
    "f5 = lambda x:  log( exp(x ** 2 + cos(37 * x + 1)) - 26 * sin(-8 * log(x) / (x ** 3)))\n",
    "f5_diff = diff(f5)\n",
    "assert(abs(f5_diff(12) - (57.0774)) < eps)\n",
    "\n",
    "f6 = lambda x:  exp(-x ** 2)\n",
    "f6_diff = diff(f6)\n",
    "assert(abs(f6_diff(0.5) - (-0.778801)) < eps)\n"
   ]
  },
  {
   "cell_type": "code",
   "execution_count": 716,
   "metadata": {},
   "outputs": [
    {
     "name": "stdout",
     "output_type": "stream",
     "text": [
      "Function has no Derivtive in this point\n"
     ]
    }
   ],
   "source": [
    "f7 = lambda x:  log(x)\n",
    "f7_diff = diff(f5)\n",
    "f7_diff(0)"
   ]
  },
  {
   "cell_type": "markdown",
   "metadata": {},
   "source": [
    "## Задание 1.3 (3 балла)\n",
    "\n",
    "Воспользуйтесь методами **численного** дифференцирования для \"проверки\" работы кода на нескольких примерах. Например,  библиотеке `scipy` есть функция `derivative`. Или реализуйте какой-нибудь метод численного дифференцирования самостоятельно (**+5 баллов**)"
   ]
  },
  {
   "cell_type": "code",
   "execution_count": 717,
   "metadata": {},
   "outputs": [
    {
     "name": "stderr",
     "output_type": "stream",
     "text": [
      "C:\\Users\\User\\AppData\\Local\\Temp\\ipykernel_1584\\2371880734.py:6: DeprecationWarning: scipy.misc.derivative is deprecated in SciPy v1.10.0; and will be completely removed in SciPy v1.12.0. You may consider using findiff: https://github.com/maroba/findiff or numdifftools: https://github.com/pbrod/numdifftools\n",
      "  derivative(f, 2.)\n"
     ]
    },
    {
     "data": {
      "text/plain": [
       "22.0"
      ]
     },
     "execution_count": 717,
     "metadata": {},
     "output_type": "execute_result"
    }
   ],
   "source": [
    "from scipy.misc import derivative\n",
    "\n",
    "def f(x: float) -> float:\n",
    "    return 5 * x * x + 2 * x + 2\n",
    "\n",
    "derivative(f, 2.)"
   ]
  },
  {
   "cell_type": "markdown",
   "metadata": {},
   "source": [
    "Функция из scipy в некорорых случаях считает неверно"
   ]
  },
  {
   "cell_type": "markdown",
   "metadata": {},
   "source": [
    "Функция для численного дифференцирования с точностью $h^{2}$"
   ]
  },
  {
   "cell_type": "code",
   "execution_count": 718,
   "metadata": {},
   "outputs": [],
   "source": [
    "def numDer(f: Callable[[float], float], x: float, h: float) -> float:\n",
    "    try: \n",
    "        v: float = f(x) #проверка имеет ли функция значение в точке дифференциирования\n",
    "        res: float = (f(x + h) - f(x - h)) / (2 * h)\n",
    "    except ValueError:\n",
    "        print('Function has no Derivtive in this point')\n",
    "    else:\n",
    "        return res"
   ]
  },
  {
   "cell_type": "markdown",
   "metadata": {},
   "source": [
    "Случай когда производной нет"
   ]
  },
  {
   "cell_type": "code",
   "execution_count": 719,
   "metadata": {},
   "outputs": [
    {
     "name": "stdout",
     "output_type": "stream",
     "text": [
      "Function has no Derivtive in this point\n"
     ]
    }
   ],
   "source": [
    "f1 = lambda x: math.log(x)\n",
    "numDer(f1, 0, eps)"
   ]
  },
  {
   "cell_type": "code",
   "execution_count": 720,
   "metadata": {},
   "outputs": [],
   "source": [
    "eps: float = 10e-5\n",
    "f1 = lambda x: sin(1 / (x ** 2))\n",
    "f1_diff = diff(f1)\n",
    "assert(abs(f1_diff(math.pi) - numDer(f1, math.pi, eps)) < eps)\n",
    "\n",
    "f2 = lambda x: cos(x ** 3 + 2 * x + 3)\n",
    "f2_diff = diff(f2)\n",
    "assert(abs(f2_diff(1) - numDer(f2, 1, eps)) < eps)\n",
    "\n",
    "f3 = lambda x:  log( exp(x ** 2 + cos(37 * x + 1)) - 26 * sin(-8 * log(x) / (x ** 3)))\n",
    "f3_diff = diff(f3)\n",
    "assert(abs(f3_diff(12) - numDer(f3, 12, eps)) < eps)\n",
    "\n",
    "f4 = lambda x: abs(x ** 2)\n",
    "f4_diff = diff(f4)\n",
    "assert(abs(f4_diff(-1) - numDer(f4, -1, eps)) < eps)\n",
    "\n",
    "f5 = lambda x: x / 12\n",
    "f5_diff = diff(f5)\n",
    "assert(abs(f5_diff(4) - numDer(f5, 4, eps)) < eps)\n",
    "\n",
    "f6 = lambda x: x / x ** 2 + 5 * x ** 6 + x ** 3 + 2\n",
    "f6_diff = diff(f6)\n",
    "assert(abs(f6_diff(3) - numDer(f6, 3, eps)) < eps)"
   ]
  },
  {
   "cell_type": "markdown",
   "metadata": {},
   "source": [
    "## Задание 1.4 (10 баллов)\n",
    "\n",
    "Необходимо разработать систему автоматического тестирования алгоритма дифференцирования в следующем виде:\n",
    "- реализовать механизм генерации \"случайных функций\" (например, что-то вроде такого: $f(x) = x + 5 * x - \\cos(20 * \\log(12 - 20 * x * x )) - 20 * x$ )\n",
    "- сгенерировать достаточно большое число функций и сравнить результаты символьного и численного дифференцирования в случайных точках "
   ]
  },
  {
   "cell_type": "markdown",
   "metadata": {},
   "source": [
    "Генерацию случайных функций можно осуществить, например, двумя путями. \n",
    "1. Генерировать функцию в текстовом виде, зачем использовать встроенную функцию [eval](https://docs.python.org/3/library/functions.html#eval)\n",
    "\n",
    "```python\n",
    "func = eval(\"lambda x: 2 * x + 5\")\n",
    "assert func(42) == 89 \n",
    "```\n",
    "\n",
    "2. Использовать стандартный модуль [ast](https://docs.python.org/3/library/ast.html), который позволяет во время выполнения программы манипулировать [Абстрактным Синтаксическим Деревом](https://ru.wikipedia.org/wiki/%D0%90%D0%B1%D1%81%D1%82%D1%80%D0%B0%D0%BA%D1%82%D0%BD%D0%BE%D0%B5_%D1%81%D0%B8%D0%BD%D1%82%D0%B0%D0%BA%D1%81%D0%B8%D1%87%D0%B5%D1%81%D0%BA%D0%BE%D0%B5_%D0%B4%D0%B5%D1%80%D0%B5%D0%B2%D0%BE).\n",
    "Например, выражение \n",
    "\n",
    "```python\n",
    "func = lambda x: 2 * x + 5\n",
    "```\n",
    "\n",
    "Можно запрограммировать с помощью кода:\n",
    "\n",
    "```python\n",
    "\n",
    "expr = ast.Expression(\n",
    "    body=ast.Lambda(\n",
    "        args=ast.arguments(\n",
    "            args=[\n",
    "                ast.arg(arg='x')\n",
    "            ],\n",
    "            posonlyargs=[],\n",
    "            kwonlyargs=[],\n",
    "            kw_defaults=[],\n",
    "            defaults=[]\n",
    "        ),\n",
    "        body=ast.BinOp(\n",
    "            left=ast.BinOp(\n",
    "                left=ast.Constant(value=2),\n",
    "                op=ast.Mult(),\n",
    "                right=ast.Name(id='x', ctx=ast.Load())\n",
    "            ),\n",
    "            op=ast.Add(),\n",
    "            right=ast.Constant(value=5)\n",
    "        )\n",
    "    )\n",
    ")\n",
    "\n",
    "ast.fix_missing_locations(expr)\n",
    "\n",
    "func = eval(compile(expr, filename=\"\", mode=\"eval\"))\n",
    "\n",
    "assert func(42) == 89\n",
    "```\n",
    "\n",
    "При реализации нужно учитывать области допустимых значений функций."
   ]
  },
  {
   "cell_type": "code",
   "execution_count": 721,
   "metadata": {},
   "outputs": [],
   "source": [
    "import random\n",
    "from typing import List\n",
    "\n",
    "#создание одного выражения\n",
    "def createExample(max_elems: int = 4, max_depth : int = 3) -> Callable[[float], float]:\n",
    "    #глубина сложных функций\n",
    "    depth_of_complex: int = random.randint(0, max_depth)\n",
    "    bin_ops = [' + ', ' - ',' / ',' * ']\n",
    "    un_ops = ['abs', ' ** ', 'log', 'sin', 'cos', 'exp', 'coef']\n",
    "    #Число выражений, участвующих в бинарных операциях\n",
    "    n: int = random.randint(1, max_elems)\n",
    "    #вырожденый случай f = x / const\n",
    "    if depth_of_complex == 0:\n",
    "        x = random.choices(['x', 'num'], weights=[0.95, 0.05])[0]\n",
    "        if x == 'num':\n",
    "            x = random.uniform(-15, 15)\n",
    "            if x < 0:\n",
    "                x = '(' + str(x) + ')'\n",
    "            else:\n",
    "                x = str(x)\n",
    "        return x\n",
    "    #невырожденный случай\n",
    "    bins: List = []\n",
    "    for i in range(n - 1):\n",
    "        bins.append(random.choices(bin_ops, weights=[0.4, 0.4, 0.1, 0.1])) #взвешенный выбор\n",
    "    ans: List = []\n",
    "    elems: List = []\n",
    "    for i in range(n):\n",
    "        eq: str = createExample(max_elems, max_depth - 1)\n",
    "        un:str = random.choices(un_ops)[0]\n",
    "        match un:\n",
    "            case 'coef':\n",
    "                k: int = random.randint(-7, 7)\n",
    "                if k < 0:\n",
    "                    k = '(' + str(k) + ')'\n",
    "                elems.append(str(k) + ' * ' + eq)\n",
    "            case ' ** ':\n",
    "                if ' ** ' in eq:\n",
    "                    k: int = random.randint(1, 6)\n",
    "                else:\n",
    "                    k: int = random.randint(-6, 6)\n",
    "                if k < 0:\n",
    "                    k: int = '(' + str(k) + ')'\n",
    "                elems.append(eq + ' ** ' + str(k))\n",
    "            case 'log':\n",
    "                gtz = random.choice([' ** ', 'abs'])\n",
    "                match gtz: #упрощение для того чтобы подлогарифмическое не давало сложных областей определения\n",
    "                    case ' ** ':\n",
    "                        if ' ** ' in eq:\n",
    "                            k: int = random.randrange(2, 6, step = 2)\n",
    "                        else:\n",
    "                            k: int = random.randrange(-6, 6, step = 2)\n",
    "                        if k < 0:\n",
    "                            k: int = '(' + str(k) + ')'\n",
    "                        eq = '(' + eq + ')' + ' ** ' + str(k)\n",
    "                    case _:\n",
    "                        curr_f = eval('lambda x: ' + eq)\n",
    "                        if curr_f(13.345) == 0 and curr_f(-13.345):\n",
    "                            eq = '0'\n",
    "                        else:\n",
    "                            eq = gtz + '(' + eq + ')'\n",
    "                elems.append('log' + '(' + eq + ' + 1)')\n",
    "            case 'abs':\n",
    "                curr_f = eval('lambda x: ' + eq)\n",
    "                if curr_f(13.345) == 0 and curr_f(-13.345): #упрощение под знаком модуля\n",
    "                    elems.append('0')\n",
    "                else:\n",
    "                    elems.append(un + '(' + eq + ')')\n",
    "            case _:\n",
    "                elems.append(un + '(' + eq + ')')\n",
    "    ans.append(elems[0])\n",
    "    for i in range(1, n):\n",
    "        ans.append(bins[i - 1][0])\n",
    "        ans.append(elems[i])\n",
    "    ans = ''.join(ans)\n",
    "    return ans\n",
    "\n",
    "#Программа для тестировки нескольких вариантов\n",
    "def test(f_sym: Callable[[float], float], f_num: Callable[[float], float], n_tests: int = 100, eps: float = 10e-3) -> None:\n",
    "    n_errs: int = 0\n",
    "    problem_funs: List = []\n",
    "    for i in range(n_tests):\n",
    "        while True:\n",
    "            try:\n",
    "                eq = createExample()\n",
    "                x = random.uniform(-3, 3)\n",
    "                fun = eval('lambda x: ' + eq)\n",
    "                fun(x)\n",
    "                f_sym_diff = f_sym(fun)\n",
    "                #print(eq, x) вывод промежуточных функций для дебага\n",
    "                while abs(f_sym_diff(x)) > 10e5:\n",
    "                    eq = createExample()\n",
    "                    x = random.uniform(-3, 3)\n",
    "                    fun = eval('lambda x: ' + eq)\n",
    "                    f_sym_diff = f_sym(fun)\n",
    "                    #print(eq, x) вывод промежуточных функций для дебага\n",
    "                value = f_sym_diff(x) - f_num(fun, x, eps ** 3)\n",
    "            except ZeroDivisionError:\n",
    "                pass\n",
    "            except NoDerivativeException:\n",
    "                pass\n",
    "            except OverflowError:\n",
    "                pass\n",
    "            else:\n",
    "                break\n",
    "        if abs(value) >= eps:\n",
    "            n_errs += 1\n",
    "            problem_funs.append((value, f_sym_diff(x), f_num(fun, x, eps ** 3), eq, x))\n",
    "    print(f'Symbolic derivative and numerical derivative are equal for {n_tests - n_errs}')\n",
    "    print(f'Errors in {n_errs} cases')\n",
    "    if n_errs > 0:\n",
    "        print('Problem funcs:')\n",
    "        for elem in problem_funs:\n",
    "            print(elem)\n"
   ]
  },
  {
   "cell_type": "markdown",
   "metadata": {},
   "source": [
    "Тест функции создания примера"
   ]
  },
  {
   "cell_type": "code",
   "execution_count": 726,
   "metadata": {},
   "outputs": [
    {
     "data": {
      "text/plain": [
       "'(-7) * x - exp(log(0 + 1) - 1 * exp(x) - 7 * x)'"
      ]
     },
     "execution_count": 726,
     "metadata": {},
     "output_type": "execute_result"
    }
   ],
   "source": [
    "createExample()"
   ]
  },
  {
   "cell_type": "markdown",
   "metadata": {},
   "source": [
    "Сравнение численного и символьного дифференциирования. Проблема может возникать из-за большого аболютного значения второй производной, что напрямую влияет на точность вычисления производной по численной формуле"
   ]
  },
  {
   "cell_type": "code",
   "execution_count": 723,
   "metadata": {},
   "outputs": [
    {
     "name": "stdout",
     "output_type": "stream",
     "text": [
      "Symbolic derivative and numerical derivative are equal for 98\n",
      "Errors in 2 cases\n",
      "Problem funcs:\n",
      "(59989.12035818864, 437779.77124293294, 377790.6508847443, 'log(0 + 1) - 7 * log((x) ** (-2) + 1) + cos(x ** (-3) - (-4) * x - exp(x)) ** 3 * cos(x)', -0.0530052433728887)\n",
      "(0.45520560457592296, -167.18712839509266, -167.64233399966858, '0 - exp(log((1 * x - exp(x) * sin(x)) ** 0 + 1) + cos(x ** (-4) + exp(x) - 4 * x) - 7 * exp(x) + 0 * (-2) * x) + log(0 + 1)', -0.13136705191194054)\n"
     ]
    }
   ],
   "source": [
    "test(diff, numDer)"
   ]
  },
  {
   "cell_type": "markdown",
   "metadata": {},
   "source": [
    "## Задание 1.5 (7 баллов)\n",
    "\n",
    "Реализуйте поддержку функций нескольких аргументов. Например\n",
    "\n",
    "```python\n",
    "def f(x: float, y: float, z: float) -> float:\n",
    "    return x * y + z - 5 * y  \n",
    "\n",
    "\n",
    "f_diff = diff(f)\n",
    "\n",
    "f_diff(10, 10, 10) # = [10, 5, 1]\n",
    "```"
   ]
  },
  {
   "cell_type": "code",
   "execution_count": 727,
   "metadata": {},
   "outputs": [],
   "source": [
    "def diff(func: Callable[[float], float]) -> Callable[[float], float]:\n",
    "    def Der(x: float, y: float, z: float) -> float:\n",
    "        ans: List = []\n",
    "        vars: List = [x, y, z]\n",
    "        for i in range(len(vars)):\n",
    "            curr = vars.copy()\n",
    "            curr[i] = Dual(vars[i], 1.0)\n",
    "            x_new = curr[0]\n",
    "            y_new = curr[1]\n",
    "            z_new = curr[2]\n",
    "            try:\n",
    "                res = func(x_new, y_new, z_new)\n",
    "                match res:\n",
    "                    case Number():\n",
    "                        res = 0\n",
    "                    case Dual(o_value, o_d):\n",
    "                        res = res.d\n",
    "                ans.append(res)\n",
    "            except NoDerivativeException:\n",
    "                print(\"Function has no Derivtive in this point\")\n",
    "                return\n",
    "        else:\n",
    "            return ans\n",
    "    return Der"
   ]
  },
  {
   "cell_type": "code",
   "execution_count": 728,
   "metadata": {},
   "outputs": [
    {
     "data": {
      "text/plain": [
       "[10.0, 5.0, 1.0]"
      ]
     },
     "execution_count": 728,
     "metadata": {},
     "output_type": "execute_result"
    }
   ],
   "source": [
    "def f(x: float, y: float, z: float) -> float:\n",
    "    return x * y + z - 5 * y  \n",
    "\n",
    "\n",
    "f_diff = diff(f)\n",
    "\n",
    "f_diff(10, 10, 10) # = [10, 5, 1]"
   ]
  },
  {
   "cell_type": "code",
   "execution_count": 730,
   "metadata": {},
   "outputs": [
    {
     "name": "stdout",
     "output_type": "stream",
     "text": [
      "Function has no Derivtive in this point\n"
     ]
    }
   ],
   "source": [
    "def f(x: float, y: float, z: float) -> float:\n",
    "    return abs(x) + y ** 2 - z \n",
    "\n",
    "\n",
    "f_diff = diff(f)\n",
    "\n",
    "f_diff(0, 2, 3) # No Derivative"
   ]
  },
  {
   "cell_type": "code",
   "execution_count": 734,
   "metadata": {},
   "outputs": [
    {
     "name": "stdout",
     "output_type": "stream",
     "text": [
      "[1.8414709848078965, 1.0, 2.5403023058681398] [1.8414709848078965, 1.0, 2.5403023058681398]\n"
     ]
    }
   ],
   "source": [
    "def f(x: float, y: float, z: float) -> float:\n",
    "    return log(x * y * z) + x * sin(z) - 1 / z\n",
    "\n",
    "\n",
    "f_diff = diff(f)\n",
    "\n",
    "print(f_diff(1, 1, 1), [sin(1) + 1, 1/1, 1 * cos(1) + 1 + 1 /1 ** 2])"
   ]
  }
 ],
 "metadata": {
  "kernelspec": {
   "display_name": "Python 3.10.4 64-bit",
   "language": "python",
   "name": "python3"
  },
  "language_info": {
   "codemirror_mode": {
    "name": "ipython",
    "version": 3
   },
   "file_extension": ".py",
   "mimetype": "text/x-python",
   "name": "python",
   "nbconvert_exporter": "python",
   "pygments_lexer": "ipython3",
   "version": "3.10.13"
  },
  "orig_nbformat": 4,
  "vscode": {
   "interpreter": {
    "hash": "916dbcbb3f70747c44a77c7bcd40155683ae19c65e1c03b4aa3499c5328201f1"
   }
  }
 },
 "nbformat": 4,
 "nbformat_minor": 2
}
