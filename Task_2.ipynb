{
 "cells": [
  {
   "cell_type": "markdown",
   "metadata": {},
   "source": [
    "# Задание 2.\n",
    "\n",
    "**NB. Все упражнения ниже нужно делать без использования циклов Python в явном (`while`, `for`) и неявном виде (list comprehension, `map`, `reduce` и пр)**\n",
    "\n",
    "Задания по манипуляциям с массивами чаще всего решаются в одно/два выражения. "
   ]
  },
  {
   "cell_type": "code",
   "execution_count": 1,
   "metadata": {},
   "outputs": [
    {
     "data": {
      "text/plain": [
       "array([[33,  0, 60, ..., 80, 31, 22],\n",
       "       [83, 42, 66, ..., 95, 66, 43],\n",
       "       [38, 24, 14, ..., 43, 80, 16],\n",
       "       ...,\n",
       "       [ 4, 79, 61, ..., 40, 15, 14],\n",
       "       [17, 80, 11, ..., 68, 60, 75],\n",
       "       [14, 24, 33, ..., 27, 78, 62]])"
      ]
     },
     "execution_count": 1,
     "metadata": {},
     "output_type": "execute_result"
    }
   ],
   "source": [
    "%matplotlib inline\n",
    "\n",
    "import numpy as np\n",
    "import matplotlib.pyplot as plt\n",
    "import seaborn as sns\n",
    "sns.set_theme()\n",
    "\n",
    "A = np.random.randint(0, 100, size=(200, 50))\n",
    "A"
   ]
  },
  {
   "cell_type": "markdown",
   "metadata": {},
   "source": [
    "# Задание 2.1 (2 балла)\n",
    "\n",
    "Сгенерируйте новый массив, в котором столбцы массива `A` переставлены в случайном порядке"
   ]
  },
  {
   "cell_type": "code",
   "execution_count": 2,
   "metadata": {},
   "outputs": [
    {
     "data": {
      "text/plain": [
       "array([[84, 97, 22, ..., 35, 25, 80],\n",
       "       [53, 28, 61, ..., 18, 56, 95],\n",
       "       [71,  5, 82, ..., 66, 55, 43],\n",
       "       ...,\n",
       "       [20, 47, 56, ..., 84, 42, 40],\n",
       "       [30,  0, 95, ..., 98, 50, 68],\n",
       "       [18, 42, 45, ..., 51, 94, 27]])"
      ]
     },
     "execution_count": 2,
     "metadata": {},
     "output_type": "execute_result"
    }
   ],
   "source": [
    "A[:,np.random.permutation(A.shape[1]) - 1]"
   ]
  },
  {
   "cell_type": "markdown",
   "metadata": {},
   "source": [
    "# Задание 2.2 (5 баллов)\n",
    "\n",
    "Сгенерируйте новый массив, который содержит только те строки массива `A`, в которых: \n",
    "- сумма элементов по четным столбцам (индексы $0, 2, \\ldots$) больше среднего значения (по всему массиву) суммы элементов по нечетным столбцам (индексы $1, 3, \\ldots$) "
   ]
  },
  {
   "cell_type": "code",
   "execution_count": 3,
   "metadata": {},
   "outputs": [
    {
     "data": {
      "text/plain": [
       "array([[83, 42, 66, ..., 95, 66, 43],\n",
       "       [38, 24, 14, ..., 43, 80, 16],\n",
       "       [94, 55, 34, ..., 44, 19, 58],\n",
       "       ...,\n",
       "       [50, 50, 70, ..., 83, 89, 95],\n",
       "       [66, 56, 29, ..., 73, 88, 80],\n",
       "       [17, 80, 11, ..., 68, 60, 75]])"
      ]
     },
     "execution_count": 3,
     "metadata": {},
     "output_type": "execute_result"
    }
   ],
   "source": [
    "A[np.sum(A[:,0:A.shape[1]: 2], axis=1) > np.mean(np.sum(A[:, 1:A.shape[1]: 2], axis=1)),: ]"
   ]
  },
  {
   "cell_type": "markdown",
   "metadata": {},
   "source": [
    "# Задача 2.3 (3 балла)\n",
    "\n",
    "Найдите индекс строки массива `A`, в которой разница между максимальным и минимальным элементом максимальна"
   ]
  },
  {
   "cell_type": "code",
   "execution_count": 4,
   "metadata": {},
   "outputs": [
    {
     "data": {
      "text/plain": [
       "2"
      ]
     },
     "execution_count": 4,
     "metadata": {},
     "output_type": "execute_result"
    }
   ],
   "source": [
    "np.argmax(np.max(A, axis=1) - np.min(A, axis=1))"
   ]
  },
  {
   "cell_type": "markdown",
   "metadata": {},
   "source": [
    "# Задание 2.4 (7 баллов)\n",
    "\n",
    "Сгенерируйте массив той же размерности, что и `A`, но в котором каждый элемент заменен на его порядковый номер (начиная с 1) в отсортированном по возрастанию массиве из элементов `A`\n",
    "\n",
    "Если `A` выглядит так:\n",
    "$$\n",
    "\\begin{pmatrix}\n",
    "12 & 14\\\\\n",
    "1 & 2\n",
    "\\end{pmatrix}\n",
    "$$\n",
    "то результат должен быть\n",
    "$$\n",
    "\\begin{pmatrix}\n",
    "3 & 4\\\\\n",
    "1 & 2\n",
    "\\end{pmatrix}\n",
    "$$\n",
    "\n",
    "*Tip: рассмотрите возможность неоднократного применения [argsort()](https://numpy.org/doc/stable/reference/generated/numpy.ndarray.argsort.html)*"
   ]
  },
  {
   "cell_type": "code",
   "execution_count": 5,
   "metadata": {},
   "outputs": [
    {
     "data": {
      "text/plain": [
       "array([[  78, 2098, 3140, ..., 7513, 6761, 8903],\n",
       "       [ 453, 4184, 4155, ..., 1345,  651, 8182],\n",
       "       [6225, 9973, 8280, ..., 1433, 1435, 1095],\n",
       "       ...,\n",
       "       [9932, 5541, 4030, ..., 3717, 2616, 5435],\n",
       "       [6994, 2615,  376, ..., 5403, 6578, 8584],\n",
       "       [2378, 6764, 8390, ..., 4726, 7143, 4995]], dtype=int64)"
      ]
     },
     "execution_count": 5,
     "metadata": {},
     "output_type": "execute_result"
    }
   ],
   "source": [
    "np.argsort(A, axis=None).reshape(A.shape) + 1"
   ]
  },
  {
   "cell_type": "markdown",
   "metadata": {},
   "source": [
    "# Задание 2.5 (2 балла)\n",
    "\n",
    "Примените $\\min-\\max$ - нормализацию к строкам массива `A`. То есть нужно получить новый массивы, в каждой строке которого максимальный элементы равен $1$, минимальный - $0$. "
   ]
  },
  {
   "cell_type": "code",
   "execution_count": 6,
   "metadata": {},
   "outputs": [
    {
     "data": {
      "text/plain": [
       "array([[0.34020619, 0.        , 0.6185567 , ..., 0.82474227, 0.31958763,\n",
       "        0.22680412],\n",
       "       [0.8556701 , 0.43298969, 0.68041237, ..., 0.97938144, 0.68041237,\n",
       "        0.44329897],\n",
       "       [0.38383838, 0.24242424, 0.14141414, ..., 0.43434343, 0.80808081,\n",
       "        0.16161616],\n",
       "       ...,\n",
       "       [0.03225806, 0.83870968, 0.64516129, ..., 0.41935484, 0.15053763,\n",
       "        0.13978495],\n",
       "       [0.17346939, 0.81632653, 0.1122449 , ..., 0.69387755, 0.6122449 ,\n",
       "        0.76530612],\n",
       "       [0.14285714, 0.24489796, 0.33673469, ..., 0.2755102 , 0.79591837,\n",
       "        0.63265306]])"
      ]
     },
     "execution_count": 6,
     "metadata": {},
     "output_type": "execute_result"
    }
   ],
   "source": [
    "(A - np.min(A, axis=1).reshape(-1,1)) / (np.max(A, axis=1).reshape(-1,1) - np.min(A, axis=1).reshape(-1,1))"
   ]
  },
  {
   "cell_type": "markdown",
   "metadata": {},
   "source": [
    "# Задание 2.6 (2 балла)\n",
    "\n",
    "Сгенерируйте новый трехмерный массив, размерности $10 \\times 200 \\times 50$. Подмассивы по нулевой оси должны состоять из элементов `A`, умноженных на $1 - 10$ соответственно"
   ]
  },
  {
   "cell_type": "code",
   "execution_count": 7,
   "metadata": {},
   "outputs": [
    {
     "data": {
      "text/plain": [
       "array([[[ 33,   0,  60, ...,  80,  31,  22],\n",
       "        [ 83,  42,  66, ...,  95,  66,  43],\n",
       "        [ 38,  24,  14, ...,  43,  80,  16],\n",
       "        ...,\n",
       "        [  4,  79,  61, ...,  40,  15,  14],\n",
       "        [ 17,  80,  11, ...,  68,  60,  75],\n",
       "        [ 14,  24,  33, ...,  27,  78,  62]],\n",
       "\n",
       "       [[ 66,   0, 120, ..., 160,  62,  44],\n",
       "        [166,  84, 132, ..., 190, 132,  86],\n",
       "        [ 76,  48,  28, ...,  86, 160,  32],\n",
       "        ...,\n",
       "        [  8, 158, 122, ...,  80,  30,  28],\n",
       "        [ 34, 160,  22, ..., 136, 120, 150],\n",
       "        [ 28,  48,  66, ...,  54, 156, 124]],\n",
       "\n",
       "       [[ 99,   0, 180, ..., 240,  93,  66],\n",
       "        [249, 126, 198, ..., 285, 198, 129],\n",
       "        [114,  72,  42, ..., 129, 240,  48],\n",
       "        ...,\n",
       "        [ 12, 237, 183, ..., 120,  45,  42],\n",
       "        [ 51, 240,  33, ..., 204, 180, 225],\n",
       "        [ 42,  72,  99, ...,  81, 234, 186]],\n",
       "\n",
       "       ...,\n",
       "\n",
       "       [[264,   0, 480, ..., 640, 248, 176],\n",
       "        [664, 336, 528, ..., 760, 528, 344],\n",
       "        [304, 192, 112, ..., 344, 640, 128],\n",
       "        ...,\n",
       "        [ 32, 632, 488, ..., 320, 120, 112],\n",
       "        [136, 640,  88, ..., 544, 480, 600],\n",
       "        [112, 192, 264, ..., 216, 624, 496]],\n",
       "\n",
       "       [[297,   0, 540, ..., 720, 279, 198],\n",
       "        [747, 378, 594, ..., 855, 594, 387],\n",
       "        [342, 216, 126, ..., 387, 720, 144],\n",
       "        ...,\n",
       "        [ 36, 711, 549, ..., 360, 135, 126],\n",
       "        [153, 720,  99, ..., 612, 540, 675],\n",
       "        [126, 216, 297, ..., 243, 702, 558]],\n",
       "\n",
       "       [[330,   0, 600, ..., 800, 310, 220],\n",
       "        [830, 420, 660, ..., 950, 660, 430],\n",
       "        [380, 240, 140, ..., 430, 800, 160],\n",
       "        ...,\n",
       "        [ 40, 790, 610, ..., 400, 150, 140],\n",
       "        [170, 800, 110, ..., 680, 600, 750],\n",
       "        [140, 240, 330, ..., 270, 780, 620]]])"
      ]
     },
     "execution_count": 7,
     "metadata": {},
     "output_type": "execute_result"
    }
   ],
   "source": [
    "A * (np.arange(1, 11).reshape(-1,1,1))"
   ]
  },
  {
   "cell_type": "markdown",
   "metadata": {},
   "source": [
    "# Задание 2.7 (2 балла)\n",
    "\n",
    "Создайте новый массив, такой же размерности, как и `A`, в котором сначала сгруппированы четные столбцы `A`, потом  нечетные. Используйте [np.concat()](https://numpy.org/doc/stable/reference/generated/numpy.concatenate.html) "
   ]
  },
  {
   "cell_type": "code",
   "execution_count": 8,
   "metadata": {},
   "outputs": [
    {
     "data": {
      "text/plain": [
       "array([[33, 60, 81, ..., 35, 80, 22],\n",
       "       [83, 66, 78, ..., 80, 95, 43],\n",
       "       [38, 14, 47, ..., 51, 43, 16],\n",
       "       ...,\n",
       "       [ 4, 61, 22, ..., 76, 40, 14],\n",
       "       [17, 11, 26, ..., 66, 68, 75],\n",
       "       [14, 33, 57, ..., 45, 27, 62]])"
      ]
     },
     "execution_count": 8,
     "metadata": {},
     "output_type": "execute_result"
    }
   ],
   "source": [
    "np.concatenate((A[:,0::2],A[:,1:A.shape[1]:2]), axis=1)"
   ]
  },
  {
   "cell_type": "markdown",
   "metadata": {},
   "source": [
    "# Задание 2.8 (2 балла)\n",
    "\n",
    "Посчитайте количество строк массива `A`, в который все элементы больше 5. Используйте [np.all()](https://numpy.org/doc/stable/reference/generated/numpy.all.html) "
   ]
  },
  {
   "cell_type": "code",
   "execution_count": 9,
   "metadata": {},
   "outputs": [
    {
     "data": {
      "text/plain": [
       "13"
      ]
     },
     "execution_count": 9,
     "metadata": {},
     "output_type": "execute_result"
    }
   ],
   "source": [
    "A[np.all(A > 5, axis=1)].shape[0]"
   ]
  },
  {
   "cell_type": "markdown",
   "metadata": {},
   "source": [
    "# Задание 2.9 (2 балла)\n",
    "\n",
    "Поделите массив `A` горизонтально на 10 частей и создайте новый массив размерности $20 \\times 50$, который является средним этих частей. Используйте [np.split()](https://numpy.org/doc/stable/reference/generated/numpy.split.html)"
   ]
  },
  {
   "cell_type": "code",
   "execution_count": 10,
   "metadata": {},
   "outputs": [
    {
     "data": {
      "text/plain": [
       "array([[50.9, 41.7, 38.7, 62.4, 54. , 58.8, 51. , 52.1, 46.5, 42.6, 62. ,\n",
       "        56. , 60.8, 58.2, 51.7, 44.4, 33.7, 51.1, 61.9, 50.7, 57.6, 64. ,\n",
       "        43. , 44.6, 42.1, 60.9, 35.6, 53.1, 39.5, 57. , 60.7, 53.3, 39.6,\n",
       "        30.6, 36.5, 57.6, 39.4, 49.8, 52.4, 42.3, 45.1, 42.2, 37.3, 49.8,\n",
       "        60.7, 37.1, 62.3, 63.3, 25.4, 33.2],\n",
       "       [60.3, 51.9, 47.8, 50. , 47.8, 39.7, 40.6, 57.6, 28.5, 59. , 40.6,\n",
       "        48.6, 43.7, 47.6, 42.9, 45.7, 63. , 40.8, 43.7, 53.7, 52.5, 47.4,\n",
       "        34.7, 50.4, 48. , 64.2, 63.6, 46.4, 60.1, 50.3, 39.6, 42.1, 58.1,\n",
       "        53.1, 61. , 49.8, 58.3, 45.4, 42.9, 51. , 61.7, 58.1, 50.8, 43.9,\n",
       "        39.4, 65.5, 42.7, 48.2, 48.4, 52.6],\n",
       "       [48.9, 44.2, 51.9, 49.7, 67.4, 50.8, 31.5, 49.4, 31.5, 62.6, 53.4,\n",
       "        46.5, 44.9, 47. , 39.5, 58.3, 47.9, 40.7, 48.6, 57.7, 49.4, 48.4,\n",
       "        54.7, 52.7, 64.6, 45.4, 52.1, 31. , 65.6, 51.8, 58.5, 40.6, 53.3,\n",
       "        41.5, 67.5, 57.6, 51.9, 43.3, 47.2, 64.3, 41.7, 58.1, 76.8, 50. ,\n",
       "        68. , 33.9, 62.3, 55.8, 45.2, 46.8],\n",
       "       [53.5, 58.9, 45.8, 55.1, 48.2, 33.8, 62.6, 36. , 35.9, 66.6, 53. ,\n",
       "        50. , 41.5, 62.1, 30.4, 40.9, 50.3, 63.7, 42.5, 39.6, 53.9, 71. ,\n",
       "        43.6, 49.1, 43.4, 51.8, 46.6, 41.8, 55.1, 42.4, 48.3, 38.3, 39.1,\n",
       "        45.6, 40.6, 57.1, 47.2, 56.6, 56.2, 38.1, 58.1, 50.6, 65.8, 43.7,\n",
       "        43.8, 51.3, 44.8, 52.6, 47.2, 62.3],\n",
       "       [38.8, 55.3, 54.1, 40. , 48.8, 55.8, 42.2, 54.1, 76.9, 41.4, 52.2,\n",
       "        52.4, 50.4, 45.8, 41.3, 49.9, 49.4, 38. , 43.1, 38. , 45.8, 66.3,\n",
       "        42.9, 41.9, 54.2, 67.6, 53.7, 34.5, 44.6, 55.7, 54.1, 55.1, 30.8,\n",
       "        46.2, 43.1, 47.5, 42.6, 51.3, 63.1, 60.4, 59. , 52.9, 42.7, 47.8,\n",
       "        54.7, 49.9, 54.6, 49.1, 51. , 37. ],\n",
       "       [43.4, 52.9, 63.9, 35.4, 41.4, 50.7, 48. , 61.8, 47.8, 37.4, 53.5,\n",
       "        64.9, 53.7, 44.8, 60.9, 46.6, 49.1, 36.7, 43.8, 50.6, 36.4, 61.6,\n",
       "        70.4, 52.4, 77.8, 52.7, 53.5, 38.5, 55.6, 57.9, 49.4, 73.1, 61.6,\n",
       "        34.8, 55.1, 53.7, 54.1, 60.5, 46.9, 37.7, 64.2, 60.7, 49.2, 35.2,\n",
       "        43.8, 41.1, 44.9, 57. , 63.9, 57.6],\n",
       "       [43.7, 53.9, 30.8, 65.1, 54.9, 43.2, 56.9, 54.1, 35.4, 42.3, 65.2,\n",
       "        61.3, 34.4, 51.8, 55.3, 52.7, 50.3, 53.7, 39.7, 36.8, 60.7, 48. ,\n",
       "        35.8, 43.8, 49. , 40. , 63.2, 50.4, 48.9, 43.7, 45.2, 51.1, 31.3,\n",
       "        54.4, 47.2, 57.8, 46.6, 45.6, 21.5, 53.4, 43.8, 46.9, 41.1, 54.5,\n",
       "        47.3, 53.7, 60.6, 49. , 49. , 60.4],\n",
       "       [45.8, 58.8, 39.8, 56.7, 53.1, 40.7, 80.7, 42.9, 51.6, 52.9, 41.6,\n",
       "        50. , 27.2, 52.3, 42.9, 41.1, 34.2, 62.4, 53.4, 61.4, 42.2, 43.4,\n",
       "        48.9, 28.9, 55.7, 48.2, 39.8, 65.5, 56.6, 42.4, 57.1, 47.9, 38.7,\n",
       "        46.9, 45.2, 52.5, 64.8, 39. , 43.8, 46.8, 52.7, 66.5, 68. , 53.2,\n",
       "        49.7, 47.6, 44.5, 55.7, 52.1, 51.7],\n",
       "       [48.6, 50.8, 54.2, 62.4, 49.6, 54.2, 39.2, 38.4, 50.3, 53.1, 64.6,\n",
       "        57.7, 62.7, 71.5, 46.8, 48.8, 45.1, 43. , 48.5, 41.8, 49.6, 26. ,\n",
       "        52. , 59.9, 51. , 52.8, 53.1, 43. , 55.4, 46.3, 59.9, 33.8, 45.7,\n",
       "        52.2, 53.5, 40.7, 58.8, 47. , 51.3, 57.2, 62.2, 37.6, 40.8, 42.5,\n",
       "        38.9, 50.2, 48.8, 30.5, 49.9, 59.3],\n",
       "       [54.5, 57.4, 45.8, 59.2, 49. , 52.8, 41.9, 52.8, 53.5, 43.2, 52.1,\n",
       "        50.5, 54.2, 45.2, 42.1, 60.8, 48.1, 56.9, 52.7, 68.3, 38.6, 38.6,\n",
       "        50. , 68.8, 53.3, 49.4, 59.1, 43.3, 44.4, 53.7, 47.1, 36.5, 49.1,\n",
       "        45.2, 44.4, 65.5, 25.6, 45.8, 39.7, 55.2, 34.4, 45.7, 52.9, 50.2,\n",
       "        58.2, 29.3, 53.6, 66.4, 52. , 52. ],\n",
       "       [55.9, 42.3, 50.1, 36.8, 52.9, 50.3, 53.7, 56.7, 62.5, 60.8, 42.8,\n",
       "        54.3, 50. , 52.2, 53.2, 33.8, 44. , 50.6, 37.3, 68. , 32.3, 58.9,\n",
       "        54.6, 57.3, 58. , 53.5, 39.8, 57.8, 51.8, 45.5, 47.2, 52.5, 39.1,\n",
       "        52.8, 43.1, 45.1, 70.9, 55.7, 39.9, 58.7, 66.6, 47.8, 73.7, 52.1,\n",
       "        35. , 46.9, 52.9, 53.4, 59.3, 55.6],\n",
       "       [44.4, 38.9, 54.9, 47.1, 61.6, 41.7, 44.4, 42.5, 50.9, 54.3, 44.9,\n",
       "        62.6, 39.9, 38. , 46.4, 40.2, 61.9, 42.6, 38.1, 42.5, 47.7, 55.5,\n",
       "        57.9, 49. , 49. , 46.5, 59.7, 41.9, 39.4, 55.1, 42.9, 62.2, 63.6,\n",
       "        44.2, 39.3, 48.4, 66.1, 57.6, 46.2, 58. , 49.7, 39.9, 62. , 62.8,\n",
       "        43. , 49.7, 40.1, 30.5, 53.2, 37.4],\n",
       "       [35.5, 39.6, 61.9, 57.8, 64.9, 48.9, 54.4, 33.5, 56.1, 51.9, 32.1,\n",
       "        30. , 42.7, 35. , 47. , 59.2, 45. , 42.1, 50.6, 59.7, 55.6, 53.8,\n",
       "        45.8, 42.9, 54.5, 51.4, 39. , 36.5, 35.7, 35.2, 50.4, 42.2, 58.8,\n",
       "        56.1, 42.1, 60.1, 50.6, 35.6, 54.4, 44.9, 46.8, 33.7, 41. , 45.6,\n",
       "        45. , 47.9, 39.4, 44.1, 48.9, 45.9],\n",
       "       [54.7, 45.8, 51. , 52.1, 55.9, 37.9, 46.6, 53.9, 51.6, 49.8, 57.8,\n",
       "        61.1, 64.3, 47.2, 52.2, 54.6, 50. , 43.6, 60.1, 49.3, 36.9, 38.6,\n",
       "        45.4, 49.9, 55.4, 61.7, 58.4, 33.9, 58. , 45.8, 51.1, 33. , 42.6,\n",
       "        43.1, 46.7, 53.9, 43.1, 55.3, 43.5, 57.4, 46.3, 50.7, 29. , 57.5,\n",
       "        37.4, 33.5, 43.4, 38.7, 53. , 49.3],\n",
       "       [39.2, 34.6, 56.7, 56. , 39.9, 40.2, 60.1, 42.2, 47.9, 64.4, 53.8,\n",
       "        39.7, 57.7, 29.1, 45.9, 38.9, 35.1, 40.9, 51.1, 43.2, 44.4, 48. ,\n",
       "        66.2, 49.7, 60.9, 47.2, 74.9, 41.8, 48.4, 40.4, 49.2, 53.2, 61.3,\n",
       "        42.4, 27.8, 42.1, 54.7, 50.4, 60.3, 39.7, 53.3, 52.1, 62.7, 52.4,\n",
       "        41.4, 52.6, 29.3, 58.6, 51.8, 68.9],\n",
       "       [41.2, 41.8, 32.3, 65.7, 46.5, 60.8, 51.3, 46.7, 41.5, 54.9, 47. ,\n",
       "        63.8, 50. , 56.5, 54.4, 40.4, 52.4, 53.3, 45.5, 36.5, 49.3, 53.2,\n",
       "        44. , 55.2, 24.8, 56.8, 46.6, 44.9, 57.6, 59.5, 46.1, 67.2, 60.6,\n",
       "        44.3, 32.9, 55.3, 55.6, 60.3, 41.4, 36.6, 59.2, 52.1, 54.1, 44.3,\n",
       "        41.5, 55.5, 51.5, 44.5, 35.7, 45.8],\n",
       "       [70.1, 41.2, 50.2, 55.7, 41.4, 52.8, 54.7, 50.9, 55.1, 57.2, 62.1,\n",
       "        58.7, 40.8, 47.3, 53. , 57.2, 38.2, 38.5, 61.6, 55.5, 43.7, 67.4,\n",
       "        26. , 48.8, 52. , 52.9, 59.8, 40.3, 48.4, 54.1, 45. , 45. , 45.4,\n",
       "        57.4, 53.6, 50.4, 55.7, 50.4, 47.2, 48.4, 58.5, 58.4, 50.1, 68.7,\n",
       "        54.6, 39.6, 51.8, 65.3, 50. , 52. ],\n",
       "       [43.8, 54.4, 42.7, 58.2, 61.9, 55.6, 33.8, 64.8, 51.8, 41.6, 59.5,\n",
       "        40.2, 58. , 44. , 60.6, 76.6, 38.5, 43. , 53. , 58.2, 54.9, 53.6,\n",
       "        50.9, 42. , 28.5, 38.2, 53.3, 59.2, 54.5, 42.3, 54.5, 50.5, 44.4,\n",
       "        53.1, 61.4, 38.4, 41.4, 54.4, 60.5, 46.1, 48.6, 43.5, 55.2, 35.5,\n",
       "        41. , 58.2, 47.7, 46.2, 40.7, 34.6],\n",
       "       [46.5, 41.3, 58.1, 45.2, 39.3, 39.4, 38.8, 67.6, 63.1, 53.1, 55.3,\n",
       "        44. , 43.4, 48. , 46.9, 61.3, 43.3, 64.2, 49.9, 47.8, 50.7, 47.5,\n",
       "        49.9, 49.6, 43.9, 46.4, 61.2, 54.8, 46.7, 53.6, 52.9, 50. , 55.9,\n",
       "        56.4, 43.7, 53.2, 51.1, 51.1, 54.2, 44.8, 58.9, 39.2, 54.5, 35. ,\n",
       "        58.7, 54.4, 50.4, 58.8, 62. , 67.6],\n",
       "       [45.8, 53.7, 60.5, 57. , 64.2, 64.2, 50. , 55.4, 53.7, 46.8, 60.1,\n",
       "        48.9, 49.3, 40.5, 49.7, 58.3, 56.1, 54.6, 44. , 26.9, 67.3, 46.4,\n",
       "        45.8, 53. , 45.1, 55.5, 54.5, 52.5, 53.2, 51.4, 48.9, 61.2, 47.2,\n",
       "        47.2, 49. , 42.6, 44.6, 48.5, 47.1, 51.6, 53.1, 48.3, 75.8, 54. ,\n",
       "        41.3, 54.7, 60.8, 57.9, 49.7, 53.1]])"
      ]
     },
     "execution_count": 10,
     "metadata": {},
     "output_type": "execute_result"
    }
   ],
   "source": [
    "np.mean(np.split(A, 10, axis=0),axis=0)"
   ]
  },
  {
   "cell_type": "markdown",
   "metadata": {},
   "source": [
    "# Задание 2.10 (4 балла)\n",
    "\n",
    "\"Разверните\" массив `A` в одномерный массив. Оставьте в нём только уникальные элементы в том же порядке, в котором они встречаются в массиве. Используйте [np.unique()](https://numpy.org/doc/stable/reference/generated/numpy.unique.html)"
   ]
  },
  {
   "cell_type": "code",
   "execution_count": 11,
   "metadata": {},
   "outputs": [
    {
     "data": {
      "text/plain": [
       "array([33,  0, 60, 91, 81, 95, 31, 75, 13, 50, 28,  6, 84,  2, 35, 68, 30,\n",
       "       25, 37, 34, 69, 53, 78, 64, 19, 45, 74, 93, 27,  3, 20, 97, 29, 22,\n",
       "       54, 77, 83, 65, 80, 42, 66, 23, 39, 72, 70, 96, 18,  8,  5, 56, 52,\n",
       "       57, 38, 47, 89, 73, 15, 61, 76, 88, 67, 43, 24, 14, 46, 71, 41, 79,\n",
       "       87, 55, 92, 62, 21, 44, 82, 99, 51, 16, 94, 63, 32, 48, 40, 49, 58,\n",
       "       17, 98, 85, 26,  4, 36, 59,  9, 90,  7, 12, 86, 10,  1, 11])"
      ]
     },
     "execution_count": 11,
     "metadata": {},
     "output_type": "execute_result"
    }
   ],
   "source": [
    "A.flatten()[np.sort(np.unique(A.flatten(),return_index=True)[1])]"
   ]
  },
  {
   "cell_type": "markdown",
   "metadata": {},
   "source": [
    "# Задание 2.11 (3 балла)\n",
    "\n",
    "Создайте одномерный массив размерности $200$, в котором каждый элемент - евклидово расстояние между соответствующей строкой `A` и \"средней\" строкой `A`"
   ]
  },
  {
   "cell_type": "code",
   "execution_count": 12,
   "metadata": {},
   "outputs": [
    {
     "data": {
      "text/plain": [
       "array([200.18116114, 181.55444714, 194.10200224, 177.62924105,\n",
       "       198.94214555, 187.24512617, 206.11076458, 223.51388609,\n",
       "       210.71276011, 210.22377904, 201.85996947, 204.21497809,\n",
       "       206.30588279, 199.84956161, 184.47337823, 206.04998732,\n",
       "       196.96724924, 226.27672721, 198.78200943, 204.15202001,\n",
       "       197.80770277, 195.09996739, 211.45393653, 202.58039706,\n",
       "       188.05945144, 202.27263106, 188.56255534, 203.72996165,\n",
       "       207.07526959, 207.01866407, 199.58784351, 198.68325867,\n",
       "       204.26846863, 223.38636323, 192.42218499, 197.01720045,\n",
       "       196.9614614 , 198.83371765, 204.49216923, 179.72581138,\n",
       "       192.49477207, 208.94467515, 194.55309629, 219.00924016,\n",
       "       211.38069277, 192.2005132 , 194.79090655, 211.39500296,\n",
       "       198.76485422, 194.90042913, 205.2303761 , 184.76892941,\n",
       "       214.02992145, 195.29710002, 193.7344246 , 224.54577991,\n",
       "       206.54473432, 192.24769771, 185.30404009, 203.51205683,\n",
       "       220.75189076, 204.841908  , 206.40660667, 200.37509145,\n",
       "       183.08868691, 199.57614405, 215.25166033, 209.43158137,\n",
       "       191.22791971, 221.78049345, 204.47431935, 218.85771011,\n",
       "       203.22223617, 177.7288026 , 207.92731248, 198.93040812,\n",
       "       187.06655841, 207.66751618, 188.28289162, 227.00017021,\n",
       "       210.8039546 , 180.53217795, 185.793534  , 198.89461349,\n",
       "       221.91292724, 201.78401145, 219.99119818, 204.50935743,\n",
       "       200.22189509, 222.33573099, 197.88205395, 205.57020036,\n",
       "       204.18346474, 221.70037725, 195.48075935, 200.66984645,\n",
       "       188.98467471, 194.98678744, 223.55810716, 199.08263931,\n",
       "       208.16041236, 219.60677875, 184.86085923, 202.36518296,\n",
       "       226.26547964, 189.18733381, 207.82198458, 195.53290586,\n",
       "       205.10250431, 227.734269  , 194.63765636, 173.21260715,\n",
       "       196.0433556 , 224.28871411, 226.95818398, 227.79940139,\n",
       "       231.49476727, 214.64779821, 194.54286745, 192.30592106,\n",
       "       203.75280924, 203.18700075, 172.34371841, 220.74656798,\n",
       "       221.33297828, 205.52738814, 216.33706866, 216.1751079 ,\n",
       "       200.91567205, 221.36516726, 195.39515673, 198.25099565,\n",
       "       196.7875435 , 183.99991107, 209.95305969, 200.56220301,\n",
       "       205.25985305, 211.77874604, 208.58589903, 182.37614229,\n",
       "       191.88399432, 184.02053493, 225.47183255, 211.23976253,\n",
       "       182.0273531 , 198.28435963, 193.97385719, 205.33647332,\n",
       "       198.10322379, 180.33226909, 221.6508003 , 209.33205028,\n",
       "       227.82198593, 208.0756768 , 205.34280429, 203.39719092,\n",
       "       201.46753405, 220.70524977, 181.90485776, 212.14499116,\n",
       "       195.52242141, 194.00058576, 194.90219926, 211.81146634,\n",
       "       193.97684727, 185.09910123, 208.06474299, 210.65971916,\n",
       "       209.75070268, 194.29021405, 205.27003501, 213.692015  ,\n",
       "       207.70225631, 214.74914965, 206.89639261, 211.46999143,\n",
       "       205.78400636, 205.08831579, 223.39849434, 218.55691999,\n",
       "       230.51313905, 165.61629532, 198.9686339 , 205.26206974,\n",
       "       199.72580523, 223.81572169, 220.64230618, 183.37897174,\n",
       "       204.57127676, 194.3247984 , 204.88083677, 198.9162318 ,\n",
       "       224.60480243, 207.00537982, 186.70130496, 205.57577016,\n",
       "       198.49699563, 187.51348558, 203.62646507, 188.32970364])"
      ]
     },
     "execution_count": 12,
     "metadata": {},
     "output_type": "execute_result"
    }
   ],
   "source": [
    "np.linalg.norm(A - np.mean(A, axis=0), axis=1)"
   ]
  },
  {
   "cell_type": "markdown",
   "metadata": {},
   "source": [
    "# Задание 2.12 (2 балла)\n",
    "\n",
    "Создайте новый массив, который состоит из элементов `A`, измененных по следующим правилам:\n",
    "- если элемент меньше $50$, то он умножается на $2$\n",
    "- в противном случае он умножается на $3$\n",
    "\n",
    "Используйте [np.where()](https://numpy.org/doc/stable/reference/generated/numpy.where.html)"
   ]
  },
  {
   "cell_type": "code",
   "execution_count": 13,
   "metadata": {},
   "outputs": [
    {
     "data": {
      "text/plain": [
       "array([[ 99,   0, 120, ..., 160,  93,  66],\n",
       "       [166, 126, 132, ..., 190, 132, 129],\n",
       "       [114,  72,  42, ..., 129, 160,  48],\n",
       "       ...,\n",
       "       [ 12, 158, 122, ..., 120,  45,  42],\n",
       "       [ 51, 160,  33, ..., 136, 120, 150],\n",
       "       [ 42,  72,  99, ...,  81, 156, 124]])"
      ]
     },
     "execution_count": 13,
     "metadata": {},
     "output_type": "execute_result"
    }
   ],
   "source": [
    "np.where(A > 50, 2 * A, 3 * A)"
   ]
  },
  {
   "cell_type": "markdown",
   "metadata": {},
   "source": [
    "# Задание 2.13 (7 баллов)\n",
    "\n",
    "Разверните массив `A` в одномерный массив. Создайте три новых массива, подсчитав скользящие средние по окнам $3$, $5$, $10$. Найдите сумму этих массивов, выровнив из размерности нулями справа\n",
    "\n",
    "*Tip: реализуйте функцию, которая считает скользящее среднее. Используйте [np.cumsum()](https://numpy.org/doc/stable/reference/generated/numpy.cumsum.html) или [np.convolve()](https://numpy.org/doc/stable/reference/generated/numpy.convolve.html)*"
   ]
  },
  {
   "cell_type": "code",
   "execution_count": 14,
   "metadata": {},
   "outputs": [
    {
     "data": {
      "text/plain": [
       "array([136.9       , 168.13333333, 201.93333333, ..., 103.73333333,\n",
       "        58.33333333,  55.66666667])"
      ]
     },
     "execution_count": 14,
     "metadata": {},
     "output_type": "execute_result"
    }
   ],
   "source": [
    "def MovingAverage(A: np.ndarray, k: int) -> np.ndarray:\n",
    "    C = np.cumsum(A)\n",
    "    return (C[k-1:] - np.concatenate((np.zeros((1,)), C[:-k]))) / k\n",
    "A3 = MovingAverage(A.flatten(), 3)\n",
    "A5 = MovingAverage(A.flatten(), 5)\n",
    "A10 = MovingAverage(A.flatten(), 10)\n",
    "max_shape = np.max([A3.shape[0], A5.shape[0], A10.shape[0]])\n",
    "(np.concatenate((A3, np.zeros(max_shape - A3.shape[0],))) +\n",
    " np.concatenate((A5, np.zeros(max_shape - A5.shape[0],))) +\n",
    " np.concatenate((A10, np.zeros(max_shape - A10.shape[0],))))"
   ]
  },
  {
   "cell_type": "markdown",
   "metadata": {},
   "source": [
    "# Задание 2.14 (8 баллов)\n",
    "\n",
    "Постройте график функции $$f(x) = (5  \\sin(2x) - \\cos^2(x) - 1 + |x^3| - x^2) / (x^2 + 1)$$  \n",
    "\n",
    "и производной от этой функции.  Найдите минимум с помощью `scipy` и обозначьте его на графике. На этой же оси постройте графики скользящего среднего этой функции с окном $1$, $2$, $5$."
   ]
  },
  {
   "cell_type": "code",
   "execution_count": 15,
   "metadata": {},
   "outputs": [],
   "source": [
    "def foo(x: np.ndarray) -> np.ndarray:\n",
    "    return (5 * np.sin(2 * x) - np.cos(x) ** 2 - 1 + np.abs(x ** 3) - x ** 2) / (x ** 2 + 1)"
   ]
  },
  {
   "cell_type": "markdown",
   "metadata": {},
   "source": [
    "Из-за модуля при дифференцировании Sympy выражение которое нельзя сконвертировать в обычную lambda функцию, работающую с числами."
   ]
  },
  {
   "cell_type": "code",
   "execution_count": 56,
   "metadata": {},
   "outputs": [
    {
     "data": {
      "image/png": "[encoded data removed]",
      "text/latex": [
       "$\\displaystyle - \\frac{2 x \\left(- x^{2} + 5 \\sin{\\left(2 x \\right)} - \\cos^{2}{\\left(x \\right)} + \\left|{x^{3}}\\right| - 1\\right)}{\\left(x^{2} + 1\\right)^{2}} + \\frac{- 2 x + 2 \\sin{\\left(x \\right)} \\cos{\\left(x \\right)} + 10 \\cos{\\left(2 x \\right)} + \\frac{\\left(\\left(3 \\left(\\operatorname{re}{\\left(x\\right)}\\right)^{2} \\operatorname{im}{\\left(x\\right)} - \\left(\\operatorname{im}{\\left(x\\right)}\\right)^{3}\\right) \\left(3 \\left(\\operatorname{re}{\\left(x\\right)}\\right)^{2} \\frac{d}{d x} \\operatorname{im}{\\left(x\\right)} + 6 \\operatorname{re}{\\left(x\\right)} \\operatorname{im}{\\left(x\\right)} \\frac{d}{d x} \\operatorname{re}{\\left(x\\right)} - 3 \\left(\\operatorname{im}{\\left(x\\right)}\\right)^{2} \\frac{d}{d x} \\operatorname{im}{\\left(x\\right)}\\right) + \\left(\\left(\\operatorname{re}{\\left(x\\right)}\\right)^{3} - 3 \\operatorname{re}{\\left(x\\right)} \\left(\\operatorname{im}{\\left(x\\right)}\\right)^{2}\\right) \\left(3 \\left(\\operatorname{re}{\\left(x\\right)}\\right)^{2} \\frac{d}{d x} \\operatorname{re}{\\left(x\\right)} - 6 \\operatorname{re}{\\left(x\\right)} \\operatorname{im}{\\left(x\\right)} \\frac{d}{d x} \\operatorname{im}{\\left(x\\right)} - 3 \\left(\\operatorname{im}{\\left(x\\right)}\\right)^{2} \\frac{d}{d x} \\operatorname{re}{\\left(x\\right)}\\right)\\right) \\operatorname{sign}{\\left(x^{3} \\right)}}{x^{3}}}{x^{2} + 1}$"
      ],
      "text/plain": [
       "                                                                              \n",
       "                                                                              \n",
       "                                                                              \n",
       "                                                 -2⋅x + 2⋅sin(x)⋅cos(x) + 10⋅c\n",
       "      ⎛   2                   2      │ 3│    ⎞                                \n",
       "  2⋅x⋅⎝- x  + 5⋅sin(2⋅x) - cos (x) + │x │ - 1⎠                                \n",
       "- ──────────────────────────────────────────── + ─────────────────────────────\n",
       "                           2                                                  \n",
       "                   ⎛ 2    ⎞                                                   \n",
       "                   ⎝x  + 1⎠                                                   \n",
       "\n",
       "          ⎛⎛    2              3   ⎞ ⎛    2    d                         d    \n",
       "          ⎜⎝3⋅re (x)⋅im(x) - im (x)⎠⋅⎜3⋅re (x)⋅──(im(x)) + 6⋅re(x)⋅im(x)⋅──(re\n",
       "          ⎝                          ⎝         dx                        dx   \n",
       "os(2⋅x) + ────────────────────────────────────────────────────────────────────\n",
       "                                                                              \n",
       "                                                                              \n",
       "──────────────────────────────────────────────────────────────────────────────\n",
       "                                                                              \n",
       "                                                                              \n",
       "                                                                              \n",
       "\n",
       "           2    d        ⎞   ⎛  3                2   ⎞ ⎛    2    d            \n",
       "(x)) - 3⋅im (x)⋅──(im(x))⎟ + ⎝re (x) - 3⋅re(x)⋅im (x)⎠⋅⎜3⋅re (x)⋅──(re(x)) - 6\n",
       "                dx       ⎠                             ⎝         dx           \n",
       "──────────────────────────────────────────────────────────────────────────────\n",
       "                                3                                             \n",
       "                               x                                              \n",
       "──────────────────────────────────────────────────────────────────────────────\n",
       "           2                                                                  \n",
       "          x  + 1                                                              \n",
       "                                                                              \n",
       "\n",
       "             d               2    d        ⎞⎞     ⎛ 3⎞\n",
       "⋅re(x)⋅im(x)⋅──(im(x)) - 3⋅im (x)⋅──(re(x))⎟⎟⋅sign⎝x ⎠\n",
       "             dx                   dx       ⎠⎠         \n",
       "──────────────────────────────────────────────────────\n",
       "                                                      \n",
       "                                                      \n",
       "──────────────────────────────────────────────────────\n",
       "                                                      \n",
       "                                                      \n",
       "                                                      "
      ]
     },
     "execution_count": 56,
     "metadata": {},
     "output_type": "execute_result"
    }
   ],
   "source": [
    "import sympy\n",
    "from sympy import Symbol, sin, cos, lambdify\n",
    "import scipy as sp\n",
    "sympy.init_printing()\n",
    "sym_x = Symbol('x')\n",
    "sym_y = (5 * sin(2 * sym_x) - cos(sym_x) ** 2 - 1 + np.abs(sym_x ** 3) - sym_x ** 2) / (sym_x ** 2 + 1)\n",
    "diff_y = sympy.diff(sym_y, sym_x)\n",
    "diff_y"
   ]
  },
  {
   "cell_type": "code",
   "execution_count": 57,
   "metadata": {},
   "outputs": [
    {
     "ename": "NameError",
     "evalue": "name 'Derivative' is not defined",
     "output_type": "error",
     "traceback": [
      "\u001b[1;31m---------------------------------------------------------------------------\u001b[0m",
      "\u001b[1;31mNameError\u001b[0m                                 Traceback (most recent call last)",
      "\u001b[1;32mc:\\Users\\User\\python for data analysis\\Task_2.ipynb Cell 33\u001b[0m line \u001b[0;36m<cell line: 2>\u001b[1;34m()\u001b[0m\n\u001b[0;32m      <a href='vscode-notebook-cell:/c%3A/Users/User/python%20for%20data%20analysis/Task_2.ipynb#Y116sZmlsZQ%3D%3D?line=0'>1</a>\u001b[0m diff \u001b[39m=\u001b[39m lambdify(sym_x, diff_y\u001b[39m.\u001b[39mdoit(), modules\u001b[39m=\u001b[39mnp)\n\u001b[1;32m----> <a href='vscode-notebook-cell:/c%3A/Users/User/python%20for%20data%20analysis/Task_2.ipynb#Y116sZmlsZQ%3D%3D?line=1'>2</a>\u001b[0m diff(\u001b[39m1\u001b[39;49m)\n",
      "File \u001b[1;32m<lambdifygenerated-27>:5\u001b[0m, in \u001b[0;36m_lambdifygenerated\u001b[1;34m(x)\u001b[0m\n\u001b[0;32m      1\u001b[0m \u001b[39mdef\u001b[39;00m \u001b[39m_lambdifygenerated\u001b[39m(x):\n\u001b[0;32m      2\u001b[0m     \u001b[39mreturn\u001b[39;00m (  \u001b[39m# Not supported in Python with numpy:\u001b[39;00m\n\u001b[0;32m      3\u001b[0m   \u001b[39m# Derivative\u001b[39;00m\n\u001b[0;32m      4\u001b[0m   \u001b[39m# Derivative\u001b[39;00m\n\u001b[1;32m----> 5\u001b[0m \u001b[39m-\u001b[39m\u001b[39m2\u001b[39m\u001b[39m*\u001b[39mx\u001b[39m*\u001b[39m(\u001b[39m-\u001b[39mx\u001b[39m*\u001b[39m\u001b[39m*\u001b[39m\u001b[39m2\u001b[39m \u001b[39m+\u001b[39m \u001b[39m5\u001b[39m\u001b[39m*\u001b[39msin(\u001b[39m2\u001b[39m\u001b[39m*\u001b[39mx) \u001b[39m-\u001b[39m cos(x)\u001b[39m*\u001b[39m\u001b[39m*\u001b[39m\u001b[39m2\u001b[39m \u001b[39m+\u001b[39m \u001b[39mabs\u001b[39m(x\u001b[39m*\u001b[39m\u001b[39m*\u001b[39m\u001b[39m3\u001b[39m) \u001b[39m-\u001b[39m \u001b[39m1\u001b[39m)\u001b[39m/\u001b[39m(x\u001b[39m*\u001b[39m\u001b[39m*\u001b[39m\u001b[39m2\u001b[39m \u001b[39m+\u001b[39m \u001b[39m1\u001b[39m)\u001b[39m*\u001b[39m\u001b[39m*\u001b[39m\u001b[39m2\u001b[39m \u001b[39m+\u001b[39m (\u001b[39m-\u001b[39m\u001b[39m2\u001b[39m\u001b[39m*\u001b[39mx \u001b[39m+\u001b[39m \u001b[39m2\u001b[39m\u001b[39m*\u001b[39msin(x)\u001b[39m*\u001b[39mcos(x) \u001b[39m+\u001b[39m \u001b[39m10\u001b[39m\u001b[39m*\u001b[39mcos(\u001b[39m2\u001b[39m\u001b[39m*\u001b[39mx) \u001b[39m+\u001b[39m ((\u001b[39m3\u001b[39m\u001b[39m*\u001b[39mreal(x)\u001b[39m*\u001b[39m\u001b[39m*\u001b[39m\u001b[39m2\u001b[39m\u001b[39m*\u001b[39mimag(x) \u001b[39m-\u001b[39m imag(x)\u001b[39m*\u001b[39m\u001b[39m*\u001b[39m\u001b[39m3\u001b[39m)\u001b[39m*\u001b[39m(\u001b[39m3\u001b[39m\u001b[39m*\u001b[39mreal(x)\u001b[39m*\u001b[39m\u001b[39m*\u001b[39m\u001b[39m2\u001b[39m\u001b[39m*\u001b[39mDerivative(im(x), x) \u001b[39m+\u001b[39m \u001b[39m6\u001b[39m\u001b[39m*\u001b[39mreal(x)\u001b[39m*\u001b[39mimag(x)\u001b[39m*\u001b[39mDerivative(re(x), x) \u001b[39m-\u001b[39m \u001b[39m3\u001b[39m\u001b[39m*\u001b[39mimag(x)\u001b[39m*\u001b[39m\u001b[39m*\u001b[39m\u001b[39m2\u001b[39m\u001b[39m*\u001b[39mDerivative(im(x), x)) \u001b[39m+\u001b[39m (real(x)\u001b[39m*\u001b[39m\u001b[39m*\u001b[39m\u001b[39m3\u001b[39m \u001b[39m-\u001b[39m \u001b[39m3\u001b[39m\u001b[39m*\u001b[39mreal(x)\u001b[39m*\u001b[39mimag(x)\u001b[39m*\u001b[39m\u001b[39m*\u001b[39m\u001b[39m2\u001b[39m)\u001b[39m*\u001b[39m(\u001b[39m3\u001b[39m\u001b[39m*\u001b[39mreal(x)\u001b[39m*\u001b[39m\u001b[39m*\u001b[39m\u001b[39m2\u001b[39m\u001b[39m*\u001b[39mDerivative(re(x), x) \u001b[39m-\u001b[39m \u001b[39m6\u001b[39m\u001b[39m*\u001b[39mreal(x)\u001b[39m*\u001b[39mimag(x)\u001b[39m*\u001b[39mDerivative(im(x), x) \u001b[39m-\u001b[39m \u001b[39m3\u001b[39m\u001b[39m*\u001b[39mimag(x)\u001b[39m*\u001b[39m\u001b[39m*\u001b[39m\u001b[39m2\u001b[39m\u001b[39m*\u001b[39mDerivative(re(x), x)))\u001b[39m*\u001b[39msign(x\u001b[39m*\u001b[39m\u001b[39m*\u001b[39m\u001b[39m3\u001b[39m)\u001b[39m/\u001b[39mx\u001b[39m*\u001b[39m\u001b[39m*\u001b[39m\u001b[39m3\u001b[39m)\u001b[39m/\u001b[39m(x\u001b[39m*\u001b[39m\u001b[39m*\u001b[39m\u001b[39m2\u001b[39m \u001b[39m+\u001b[39m \u001b[39m1\u001b[39m))\n",
      "\u001b[1;31mNameError\u001b[0m: name 'Derivative' is not defined"
     ]
    }
   ],
   "source": [
    "diff = lambdify(sym_x, diff_y.doit(), modules=np)\n",
    "diff(1)"
   ]
  },
  {
   "cell_type": "markdown",
   "metadata": {},
   "source": [
    "Возьмем производные отдельно в трех областях:"
   ]
  },
  {
   "cell_type": "code",
   "execution_count": 61,
   "metadata": {},
   "outputs": [
    {
     "data": {
      "image/png": "[encoded data removed]",
      "text/latex": [
       "$\\displaystyle \\left( - \\frac{2 x \\left(- x^{3} - x^{2} + 5 \\sin{\\left(2 x \\right)} - \\cos^{2}{\\left(x \\right)} - 1\\right)}{\\left(x^{2} + 1\\right)^{2}} + \\frac{- 3 x^{2} - 2 x + 2 \\sin{\\left(x \\right)} \\cos{\\left(x \\right)} + 10 \\cos{\\left(2 x \\right)}}{x^{2} + 1}, \\  - \\frac{2 x \\left(- x^{3} - x^{2} + 5 \\sin{\\left(2 x \\right)} - \\cos^{2}{\\left(x \\right)} - 1\\right)}{\\left(x^{2} + 1\\right)^{2}} + \\frac{- 3 x^{2} - 2 x + 2 \\sin{\\left(x \\right)} \\cos{\\left(x \\right)} + 10 \\cos{\\left(2 x \\right)}}{x^{2} + 1}, \\  - \\frac{2 x \\left(- x^{2} + 5 \\sin{\\left(2 x \\right)} - \\cos^{2}{\\left(x \\right)} - 1\\right)}{\\left(x^{2} + 1\\right)^{2}} + \\frac{- 2 x + 2 \\sin{\\left(x \\right)} \\cos{\\left(x \\right)} + 10 \\cos{\\left(2 x \\right)}}{x^{2} + 1}\\right)$"
      ],
      "text/plain": [
       "⎛      ⎛   3    2                   2       ⎞        2                        \n",
       "⎜  2⋅x⋅⎝- x  - x  + 5⋅sin(2⋅x) - cos (x) - 1⎠   - 3⋅x  - 2⋅x + 2⋅sin(x)⋅cos(x)\n",
       "⎜- ────────────────────────────────────────── + ──────────────────────────────\n",
       "⎜                          2                                        2         \n",
       "⎜                  ⎛ 2    ⎞                                        x  + 1     \n",
       "⎝                  ⎝x  + 1⎠                                                   \n",
       "\n",
       "                      ⎛   3    2                   2       ⎞        2         \n",
       " + 10⋅cos(2⋅x)    2⋅x⋅⎝- x  - x  + 5⋅sin(2⋅x) - cos (x) - 1⎠   - 3⋅x  - 2⋅x + \n",
       "──────────────, - ────────────────────────────────────────── + ───────────────\n",
       "                                          2                                   \n",
       "                                  ⎛ 2    ⎞                                    \n",
       "                                  ⎝x  + 1⎠                                    \n",
       "\n",
       "                                     ⎛   2                   2       ⎞        \n",
       "2⋅sin(x)⋅cos(x) + 10⋅cos(2⋅x)    2⋅x⋅⎝- x  + 5⋅sin(2⋅x) - cos (x) - 1⎠   -2⋅x \n",
       "─────────────────────────────, - ───────────────────────────────────── + ─────\n",
       "     2                                                 2                      \n",
       "    x  + 1                                     ⎛ 2    ⎞                       \n",
       "                                               ⎝x  + 1⎠                       \n",
       "\n",
       "                               ⎞\n",
       "+ 2⋅sin(x)⋅cos(x) + 10⋅cos(2⋅x)⎟\n",
       "───────────────────────────────⎟\n",
       "           2                   ⎟\n",
       "          x  + 1               ⎟\n",
       "                               ⎠"
      ]
     },
     "execution_count": 61,
     "metadata": {},
     "output_type": "execute_result"
    }
   ],
   "source": [
    "sym_x = Symbol('x')\n",
    "sym_y_neg = (5 * sin(2 * sym_x) - cos(sym_x) ** 2 - 1 - sym_x ** 3 - sym_x ** 2) / (sym_x ** 2 + 1)\n",
    "sym_y_pos = (5 * sin(2 * sym_x) - cos(sym_x) ** 2 - 1 - sym_x ** 3 - sym_x ** 2) / (sym_x ** 2 + 1)\n",
    "sym_y_zero = (5 * sin(2 * sym_x) - cos(sym_x) ** 2 - 1  - sym_x ** 2) / (sym_x ** 2 + 1)\n",
    "diff_y_neg = sympy.diff(sym_y_neg, sym_x)\n",
    "diff_y_pos = sympy.diff(sym_y_pos, sym_x)\n",
    "diff_y_zero = sympy.diff(sym_y_zero, sym_x)\n",
    "diff_y_neg, diff_y_pos, diff_y_zero"
   ]
  },
  {
   "cell_type": "code",
   "execution_count": 62,
   "metadata": {},
   "outputs": [],
   "source": [
    "diff_neg = lambdify(sym_x, diff_y_neg, modules=np)\n",
    "diff_pos = lambdify(sym_x, diff_y_pos, modules=np)\n",
    "diff_zero = lambdify(sym_x, diff_y_zero, modules=np)"
   ]
  },
  {
   "cell_type": "code",
   "execution_count": 63,
   "metadata": {},
   "outputs": [],
   "source": [
    "def diff_foo(x):\n",
    "    if x < 0:\n",
    "        return diff_neg(x)\n",
    "    if x > 0:\n",
    "        return diff_pos(x)\n",
    "    else:\n",
    "        return diff_zero(x)"
   ]
  },
  {
   "cell_type": "markdown",
   "metadata": {},
   "source": [
    "Минимум:"
   ]
  },
  {
   "cell_type": "code",
   "execution_count": 64,
   "metadata": {},
   "outputs": [
    {
     "name": "stdout",
     "output_type": "stream",
     "text": [
      "Optimization terminated successfully.\n",
      "         Current function value: -4.882074\n",
      "         Iterations: 6\n",
      "         Function evaluations: 16\n",
      "         Gradient evaluations: 8\n"
     ]
    }
   ],
   "source": [
    "x_min = sp.optimize.fmin_bfgs(foo, 0)"
   ]
  },
  {
   "cell_type": "markdown",
   "metadata": {},
   "source": [
    "Построение графиков:"
   ]
  },
  {
   "cell_type": "code",
   "execution_count": 67,
   "metadata": {},
   "outputs": [
    {
     "data": {
      "text/plain": [
       "<matplotlib.legend.Legend at 0x2b81b85ea00>"
      ]
     },
     "execution_count": 67,
     "metadata": {},
     "output_type": "execute_result"
    },
    {
     "data": {
      "image/png": "[encoded data removed]",
      "text/plain": [
       "<Figure size 864x576 with 1 Axes>"
      ]
     },
     "metadata": {},
     "output_type": "display_data"
    }
   ],
   "source": [
    "sns.set\n",
    "x = np.linspace(-10,10,100)\n",
    "plt.rcParams['figure.figsize'] = 12, 8\n",
    "y_diff = np.array([diff_foo(i) for i in x])\n",
    "y = foo(x)\n",
    "plt.plot(x, y, label='function')\n",
    "plt.plot(x, y_diff, label='derivative of function')\n",
    "plt.scatter(x_min, -4.882074, marker='x', c='r',label='minimum', linewidths=5)\n",
    "y_ma = []\n",
    "for k in (1,2,5):\n",
    "    y_ma.append(MovingAverage(y, k))\n",
    "    plt.plot(x[k-1:], y_ma[-1], label = f'Moving Average of function with k={k}')\n",
    "plt.legend()"
   ]
  },
  {
   "cell_type": "markdown",
   "metadata": {},
   "source": [
    "# Задание 2.15 (10 баллов)\n",
    "\n",
    "Есть следующий алгоритм семплинирования, на вход функции подается вектор из целых положительных чисел и число семплов."
   ]
  },
  {
   "cell_type": "code",
   "execution_count": 53,
   "metadata": {},
   "outputs": [
    {
     "data": {
      "image/png": "[encoded data removed]",
      "text/latex": [
       "$\\displaystyle \\left[ 0, \\  0, \\  1, \\  4, \\  0\\right]$"
      ],
      "text/plain": [
       "[0, 0, 1, 4, 0]"
      ]
     },
     "execution_count": 53,
     "metadata": {},
     "output_type": "execute_result"
    }
   ],
   "source": [
    "from typing import List \n",
    "\n",
    "def sample(x: List[int], c: int) -> List[int]:\n",
    "    assert len(x) > 0\n",
    "    \n",
    "    s = np.sum(x)\n",
    "    res = []\n",
    "    for _ in range(c):\n",
    "        val = s * np.random.random()\n",
    "        cur, idx = 0, 0        \n",
    "        while cur + x[idx] <= val:\n",
    "            cur += x[idx]\n",
    "            idx += 1\n",
    "            \n",
    "        res.append(idx)\n",
    "    return res\n",
    "          \n",
    "sample([50, 3, 1, 7, 20], 5)   "
   ]
  },
  {
   "cell_type": "markdown",
   "metadata": {},
   "source": [
    "Реализуйте данный алгоритм более оптимальным способом на массивах `numpy`, без использования циклов. Проверьте корректность и идентичность алгоритмов семплирования с помощью статистических тестов."
   ]
  },
  {
   "cell_type": "code",
   "execution_count": 54,
   "metadata": {},
   "outputs": [
    {
     "data": {
      "text/plain": [
       "array([0, 4, 4, 0, 4], dtype=int64)"
      ]
     },
     "execution_count": 54,
     "metadata": {},
     "output_type": "execute_result"
    }
   ],
   "source": [
    "def sample_np(x: List[int], c: int) -> List[int]:\n",
    "    assert len(x) > 0\n",
    "    x = np.array(x)\n",
    "    c_vec = np.sum(x)  * np.random.random(size=c)\n",
    "    temp = np.cumsum(x) - c_vec.reshape(-1, 1)\n",
    "    return np.argmax(temp > 0, axis=1)\n",
    "sample_np([50, 3, 1, 7, 20], 5) "
   ]
  },
  {
   "cell_type": "markdown",
   "metadata": {},
   "source": [
    "Используем критерий однородности Уилкоксона для проверки гипотезы о статистической однородности двух выборок, сэмплированных с помощью разных функций, уровень значимости возьмем 0.05"
   ]
  },
  {
   "cell_type": "code",
   "execution_count": 55,
   "metadata": {},
   "outputs": [
    {
     "data": {
      "text/plain": [
       "RanksumsResult(statistic=0.011244283668245394, pvalue=0.9910285487135028)"
      ]
     },
     "execution_count": 55,
     "metadata": {},
     "output_type": "execute_result"
    }
   ],
   "source": [
    "from scipy import stats\n",
    "samples = list(np.random.randint(0, 10, size=(10,)))\n",
    "samples1 = sample(samples, 200)\n",
    "samples2 = sample_np(samples, 200)\n",
    "stats.ranksums(samples1, samples2, alternative='two-sided')"
   ]
  },
  {
   "cell_type": "code",
   "execution_count": 56,
   "metadata": {},
   "outputs": [
    {
     "data": {
      "text/plain": [
       "MannwhitneyuResult(statistic=20013.0, pvalue=0.9913004550937504)"
      ]
     },
     "execution_count": 56,
     "metadata": {},
     "output_type": "execute_result"
    }
   ],
   "source": [
    "stats.mannwhitneyu(samples1, samples2, alternative='two-sided') # еще критерий манна-уитни"
   ]
  },
  {
   "cell_type": "markdown",
   "metadata": {},
   "source": [
    "pvalue > 0.05 значит гипотезу об однородности выборок принимаем, функции распределения генеральных совокупностей выборок одинаковы."
   ]
  },
  {
   "cell_type": "markdown",
   "metadata": {},
   "source": [
    "# Задание 2.16 (5 баллов)\n",
    "\n",
    "Есть следующий алгоритм \"случайного блуждания\""
   ]
  },
  {
   "cell_type": "code",
   "execution_count": 57,
   "metadata": {},
   "outputs": [
    {
     "data": {
      "image/png": "[encoded data removed]",
      "text/latex": [
       "$\\displaystyle 1945$"
      ],
      "text/plain": [
       "1945"
      ]
     },
     "execution_count": 57,
     "metadata": {},
     "output_type": "execute_result"
    }
   ],
   "source": [
    "import random \n",
    "\n",
    "def walk(n: int):\n",
    "    cur_position = 0\n",
    "    for i in range(n):\n",
    "        cur_position += random.choice([-3, -1, 0, 2, 3])\n",
    "\n",
    "    return cur_position\n",
    "\n",
    "walk(10_000)"
   ]
  },
  {
   "cell_type": "markdown",
   "metadata": {},
   "source": [
    "Реализуйте более эффективную версию с помощью `numpy`, сравните производительность (используя, например, magic `timeit`). Воспользовавшись [kdeplot()](https://seaborn.pydata.org/generated/seaborn.kdeplot.html) или аналогами, постройте график распределения значений `walk(10_000)` на каком-то разумном числе запусков. "
   ]
  },
  {
   "cell_type": "code",
   "execution_count": 58,
   "metadata": {},
   "outputs": [
    {
     "name": "stdout",
     "output_type": "stream",
     "text": [
      "time without numpy 0.00786447525024414\n",
      "time with numpy 0.0\n"
     ]
    }
   ],
   "source": [
    "import time\n",
    "\n",
    "def walk_np(n: int):\n",
    "    return np.sum(np.random.choice([-3, -1, 0, 2, 3], n))\n",
    "start_time = time.time()\n",
    "walk(10_000)\n",
    "print(f'time without numpy {time.time() - start_time}')\n",
    "start_time = time.time()\n",
    "walk_np(10_000)\n",
    "print(f'time with numpy {time.time() - start_time}')"
   ]
  },
  {
   "cell_type": "code",
   "execution_count": 59,
   "metadata": {},
   "outputs": [
    {
     "name": "stdout",
     "output_type": "stream",
     "text": [
      "0.005339327335357666 0.00023632287979125977\n"
     ]
    }
   ],
   "source": [
    "q1, q2 = 0, 0\n",
    "a1 = []\n",
    "a2 = []\n",
    "for i in range(1000):\n",
    "    start_time = time.time()\n",
    "    walk(10_000)\n",
    "    q1 += time.time() - start_time\n",
    "    a1.append(walk(10_000))\n",
    "    start_time = time.time()\n",
    "    walk_np(10_000)\n",
    "    q2+=time.time() - start_time\n",
    "    a2.append(walk_np(10_000))\n",
    "print(q1/1000, q2/1000)"
   ]
  },
  {
   "cell_type": "code",
   "execution_count": 60,
   "metadata": {},
   "outputs": [
    {
     "data": {
      "text/plain": [
       "<matplotlib.legend.Legend at 0x1b9dab384c0>"
      ]
     },
     "execution_count": 60,
     "metadata": {},
     "output_type": "execute_result"
    },
    {
     "data": {
      "image/png": "[encoded data removed]",
      "text/plain": [
       "<Figure size 864x576 with 1 Axes>"
      ]
     },
     "metadata": {},
     "output_type": "display_data"
    }
   ],
   "source": [
    "sns.histplot(a1, label = 'wtihout numpy',color='r')\n",
    "sns.histplot(a2, label = 'with numpy')\n",
    "plt.legend()"
   ]
  },
  {
   "cell_type": "markdown",
   "metadata": {},
   "source": [
    "# Задание 2.17 (5 баллов)\n",
    "\n",
    "Имеется функция, которая проделывает достаточно странные манипуляции с массивом `numpy`"
   ]
  },
  {
   "cell_type": "code",
   "execution_count": 61,
   "metadata": {},
   "outputs": [
    {
     "data": {
      "image/png": "[encoded data removed]",
      "text/latex": [
       "$\\displaystyle 0.48888470850611$"
      ],
      "text/plain": [
       "0.4888847085061101"
      ]
     },
     "execution_count": 61,
     "metadata": {},
     "output_type": "execute_result"
    }
   ],
   "source": [
    "import numpy.typing as npt\n",
    "\n",
    "def strange_conv(a: npt.NDArray[np.float64]) -> np.float64:\n",
    "    x = a.shape[0]\n",
    "    y = a.shape[1]\n",
    "\n",
    "    t = 1.\n",
    "    for y in range(y - 5):\n",
    "        for x in range(x - 3):\n",
    "            c = 1.5 * a[y+1, x+2] - a[y+5, x+3] * a[y, x] + 0.2 * a[y+4, x]\n",
    "            t = 0.2 * t + 0.8 * c\n",
    "\n",
    "    return t\n",
    "\n",
    "\n",
    "a = np.random.random((10000, 10000))\n",
    "strange_conv(a)\n"
   ]
  },
  {
   "cell_type": "markdown",
   "metadata": {},
   "source": [
    "Оптимизируйте данную функцию с помощью (2 на выбор):\n",
    "- [Numba](https://numba.pydata.org)\n",
    "- `Cython` (+5 баллов)\n",
    "- [Taichi](https://github.com/taichi-dev/taichi) (+5 баллов)\n",
    "- `Pythran `[[1]](https://pythran.readthedocs.io/en/latest/), [[2]](https://serge-sans-paille.github.io/pythran-stories/pythran-tutorial.html) (+2 балла)\n",
    "\n",
    "Сравните производительность."
   ]
  },
  {
   "cell_type": "markdown",
   "metadata": {},
   "source": [
    "Функция с использованием cython"
   ]
  },
  {
   "cell_type": "code",
   "execution_count": 62,
   "metadata": {},
   "outputs": [],
   "source": [
    "%%cython\n",
    "cimport numpy as cnp\n",
    "cnp.import_array()\n",
    "ctypedef cnp.float64_t DTYPE_t\n",
    "def strange_conv_c(cnp.ndarray a):\n",
    "    cdef int x = a.shape[0]\n",
    "    cdef int y = a.shape[1]\n",
    "    cdef float c = 0\n",
    "    cdef float t = 1.\n",
    "    for y in range(y - 5):\n",
    "        for x in range(x - 3):\n",
    "            c = 1.5 * a[y+1, x+2] - a[y+5, x+3] * a[y, x] + 0.2 * a[y+4, x]\n",
    "            t = 0.2 * t + 0.8 * c\n",
    "\n",
    "    return t"
   ]
  },
  {
   "cell_type": "markdown",
   "metadata": {},
   "source": [
    "Функция с использованием taichi"
   ]
  },
  {
   "cell_type": "code",
   "execution_count": 89,
   "metadata": {},
   "outputs": [
    {
     "name": "stdout",
     "output_type": "stream",
     "text": [
      "[Taichi] Starting on arch=cuda\n"
     ]
    }
   ],
   "source": [
    "import taichi as ti\n",
    "\n",
    "ti.init(arch=ti.gpu)\n",
    "\n",
    "@ti.kernel\n",
    "def strange_conv_taichi(a: ti.types.ndarray()) -> ti.types.float64:\n",
    "    x = a.shape[0] - 3\n",
    "    y = a.shape[1] - 5\n",
    "    c = 0\n",
    "    t = 1.\n",
    "    for i in ti.ndrange(y):\n",
    "        for j in  ti.ndrange(x):\n",
    "            c = 1.5 * a[i+1, j+2] - a[i+5, j+3] * a[i, j] + 0.2 * a[i+4, j]\n",
    "            t = 0.2 * t + 0.8 * c\n",
    "    return t"
   ]
  },
  {
   "cell_type": "code",
   "execution_count": 91,
   "metadata": {},
   "outputs": [
    {
     "name": "stdout",
     "output_type": "stream",
     "text": [
      "time for basic function 15.321913719177246\n",
      "time for function using cython 9.952906608581543\n",
      "time for function using taichi 0.938169002532959\n"
     ]
    }
   ],
   "source": [
    "a = np.random.random((10000, 10000))\n",
    "start_time = time.time()\n",
    "strange_conv(a)\n",
    "print(f'time for basic function {time.time() - start_time}')\n",
    "start_time = time.time()\n",
    "strange_conv_c(a)\n",
    "print(f'time for function using cython {time.time() - start_time}')\n",
    "start_time = time.time()\n",
    "strange_conv_taichi(a)\n",
    "print(f'time for function using taichi {time.time() - start_time}')"
   ]
  }
 ],
 "metadata": {
  "kernelspec": {
   "display_name": "Python 3.10.6 64-bit",
   "language": "python",
   "name": "python3"
  },
  "language_info": {
   "codemirror_mode": {
    "name": "ipython",
    "version": 3
   },
   "file_extension": ".py",
   "mimetype": "text/x-python",
   "name": "python",
   "nbconvert_exporter": "python",
   "pygments_lexer": "ipython3",
   "version": "3.9.12"
  },
  "orig_nbformat": 4,
  "vscode": {
   "interpreter": {
    "hash": "916dbcbb3f70747c44a77c7bcd40155683ae19c65e1c03b4aa3499c5328201f1"
   }
  }
 },
 "nbformat": 4,
 "nbformat_minor": 2
}
